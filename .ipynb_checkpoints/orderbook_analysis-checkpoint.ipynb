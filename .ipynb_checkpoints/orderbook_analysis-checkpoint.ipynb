{
 "cells": [
  {
   "cell_type": "code",
   "execution_count": 1,
   "metadata": {},
   "outputs": [],
   "source": [
    "import psycopg2\n",
    "import pandas as pd\n",
    "from tqdm import tqdm\n",
    "import numpy as np\n",
    "from pathos.multiprocessing import ProcessingPool as Pool\n",
    "\n",
    "\n",
    "### Database #################################################################################################################\n",
    "def get_cursor_raw():\n",
    "    host = \"10.100.100.2\"\n",
    "    database = \"stocks\"\n",
    "    user = \"mcai_dcb_write\"\n",
    "    port = 5432\n",
    "    connection = psycopg2.connect(host=host,\n",
    "                                  database=database,\n",
    "                                  user=user,\n",
    "                                  port=port)\n",
    "    cursor = connection.cursor()\n",
    "    return connection, cursor\n",
    "\n",
    "def single_insert(insert_req):\n",
    "    \"\"\" Execute a single INSERT request \"\"\"\n",
    "    connection, cursor = get_cursor_raw()\n",
    "    try:\n",
    "        cursor.execute(insert_req)\n",
    "        connection.commit()\n",
    "    except (Exception, psycopg2.DatabaseError) as error:\n",
    "        print(\"Error: %s\" % error)\n",
    "        connection.rollback()\n",
    "        return 1\n",
    "    connection.close()\n",
    "##############################################################################################################################\n"
   ]
  },
  {
   "cell_type": "code",
   "execution_count": 2,
   "metadata": {},
   "outputs": [],
   "source": [
    "connection, cursor = get_cursor_raw()"
   ]
  },
  {
   "cell_type": "code",
   "execution_count": null,
   "metadata": {},
   "outputs": [],
   "source": []
  }
 ],
 "metadata": {
  "kernelspec": {
   "display_name": "Python 3",
   "language": "python",
   "name": "python3"
  },
  "language_info": {
   "codemirror_mode": {
    "name": "ipython",
    "version": 3
   },
   "file_extension": ".py",
   "mimetype": "text/x-python",
   "name": "python",
   "nbconvert_exporter": "python",
   "pygments_lexer": "ipython3",
   "version": "3.7.4"
  }
 },
 "nbformat": 4,
 "nbformat_minor": 2
}
