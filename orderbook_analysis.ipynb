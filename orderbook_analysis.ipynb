{
 "cells": [
  {
   "cell_type": "code",
   "execution_count": 1,
   "metadata": {},
   "outputs": [],
   "source": [
    "import psycopg2\n",
    "import pandas as pd\n",
    "from tqdm import tqdm\n",
    "import numpy as np\n",
    "from pathos.multiprocessing import ProcessingPool as Pool\n",
    "\n",
    "\n",
    "### Database #################################################################################################################\n",
    "def get_cursor_raw():\n",
    "    host = \"10.100.100.2\"\n",
    "    database = \"stocks\"\n",
    "    user = \"mcai_dcb_write\"\n",
    "    port = 5432\n",
    "    connection = psycopg2.connect(host=host,\n",
    "                                  database=database,\n",
    "                                  user=user,\n",
    "                                  port=port)\n",
    "    cursor = connection.cursor()\n",
    "    return connection, cursor\n",
    "\n",
    "def single_insert(insert_req):\n",
    "    \"\"\" Execute a single INSERT request \"\"\"\n",
    "    connection, cursor = get_cursor_raw()\n",
    "    try:\n",
    "        cursor.execute(insert_req)\n",
    "        connection.commit()\n",
    "    except (Exception, psycopg2.DatabaseError) as error:\n",
    "        print(\"Error: %s\" % error)\n",
    "        connection.rollback()\n",
    "        return 1\n",
    "    connection.close()\n",
    "##############################################################################################################################\n"
   ]
  },
  {
   "cell_type": "code",
   "execution_count": 2,
   "metadata": {},
   "outputs": [],
   "source": [
    "connection, cursor = get_cursor_raw()"
   ]
  },
  {
   "cell_type": "code",
   "execution_count": 3,
   "metadata": {},
   "outputs": [],
   "source": [
    "start_time = int(1600732800 *1e9)\n",
    "end_time = int(1600819200 *1e9)"
   ]
  },
  {
   "cell_type": "code",
   "execution_count": 4,
   "metadata": {},
   "outputs": [
    {
     "name": "stdout",
     "output_type": "stream",
     "text": [
      " SELECT * FROM iex_historical_orderbook WHERE timestamp > 1600732800000000000 AND timestamp < 1600819200000000000 AND Symbol ='AAPL'\n"
     ]
    }
   ],
   "source": [
    "query =  \"\"\" SELECT * FROM iex_historical_orderbook WHERE timestamp > {} AND timestamp < {} AND Symbol ='{}'\"\"\".format(start_time,end_time,\"AAPL\")\n",
    "print(query)"
   ]
  },
  {
   "cell_type": "code",
   "execution_count": 5,
   "metadata": {},
   "outputs": [],
   "source": [
    "a=pd.read_sql_query(query,con=connection)\n"
   ]
  },
  {
   "cell_type": "code",
   "execution_count": 11,
   "metadata": {},
   "outputs": [
    {
     "data": {
      "text/html": [
       "<div>\n",
       "<style scoped>\n",
       "    .dataframe tbody tr th:only-of-type {\n",
       "        vertical-align: middle;\n",
       "    }\n",
       "\n",
       "    .dataframe tbody tr th {\n",
       "        vertical-align: top;\n",
       "    }\n",
       "\n",
       "    .dataframe thead th {\n",
       "        text-align: right;\n",
       "    }\n",
       "</style>\n",
       "<table border=\"1\" class=\"dataframe\">\n",
       "  <thead>\n",
       "    <tr style=\"text-align: right;\">\n",
       "      <th></th>\n",
       "      <th>timestamp</th>\n",
       "      <th>symbol</th>\n",
       "      <th>side</th>\n",
       "      <th>flag</th>\n",
       "      <th>size</th>\n",
       "      <th>price</th>\n",
       "    </tr>\n",
       "  </thead>\n",
       "  <tbody>\n",
       "    <tr>\n",
       "      <th>0</th>\n",
       "      <td>1600782014070451183</td>\n",
       "      <td>AAPL</td>\n",
       "      <td>buy</td>\n",
       "      <td>\u0001</td>\n",
       "      <td>100.0</td>\n",
       "      <td>110.93</td>\n",
       "    </tr>\n",
       "    <tr>\n",
       "      <th>1</th>\n",
       "      <td>1600782014796098894</td>\n",
       "      <td>AAPL</td>\n",
       "      <td>buy</td>\n",
       "      <td>\u0001</td>\n",
       "      <td>0.0</td>\n",
       "      <td>110.93</td>\n",
       "    </tr>\n",
       "    <tr>\n",
       "      <th>2</th>\n",
       "      <td>1600782014976343456</td>\n",
       "      <td>AAPL</td>\n",
       "      <td>sell</td>\n",
       "      <td>\u0001</td>\n",
       "      <td>100.0</td>\n",
       "      <td>110.99</td>\n",
       "    </tr>\n",
       "    <tr>\n",
       "      <th>3</th>\n",
       "      <td>1600782018443879916</td>\n",
       "      <td>AAPL</td>\n",
       "      <td>buy</td>\n",
       "      <td>\u0001</td>\n",
       "      <td>100.0</td>\n",
       "      <td>111.03</td>\n",
       "    </tr>\n",
       "    <tr>\n",
       "      <th>4</th>\n",
       "      <td>1600782018443949929</td>\n",
       "      <td>AAPL</td>\n",
       "      <td>buy</td>\n",
       "      <td>\u0001</td>\n",
       "      <td>0.0</td>\n",
       "      <td>111.03</td>\n",
       "    </tr>\n",
       "  </tbody>\n",
       "</table>\n",
       "</div>"
      ],
      "text/plain": [
       "             timestamp symbol  side flag   size   price\n",
       "0  1600782014070451183   AAPL   buy    \u0001  100.0  110.93\n",
       "1  1600782014796098894   AAPL   buy    \u0001    0.0  110.93\n",
       "2  1600782014976343456   AAPL  sell    \u0001  100.0  110.99\n",
       "3  1600782018443879916   AAPL   buy    \u0001  100.0  111.03\n",
       "4  1600782018443949929   AAPL   buy    \u0001    0.0  111.03"
      ]
     },
     "execution_count": 11,
     "metadata": {},
     "output_type": "execute_result"
    }
   ],
   "source": [
    "data =a\n",
    "data.head()"
   ]
  },
  {
   "cell_type": "code",
   "execution_count": 9,
   "metadata": {},
   "outputs": [],
   "source": [
    "import pandas as pd\n",
    "import matplotlib.pyplot as plt\n",
    "import matplotlib.ticker as ticker\n",
    "import matplotlib.animation as animation\n",
    "from IPython.display import HTML\n",
    "%matplotlib inline"
   ]
  },
  {
   "cell_type": "code",
   "execution_count": null,
   "metadata": {},
   "outputs": [],
   "source": [
    "_tmp_data = data[0:100]\n",
    "\n",
    "tfig, ax = plt.subplots(figsize=(15, 8))\n",
    "ax.barh(_tmp_data['price'], _tmp_data['size'])"
   ]
  },
  {
   "cell_type": "code",
   "execution_count": 13,
   "metadata": {},
   "outputs": [],
   "source": [
    "plt.show()"
   ]
  },
  {
   "cell_type": "code",
   "execution_count": 36,
   "metadata": {},
   "outputs": [
    {
     "data": {
      "text/html": [
       "<div>\n",
       "<style scoped>\n",
       "    .dataframe tbody tr th:only-of-type {\n",
       "        vertical-align: middle;\n",
       "    }\n",
       "\n",
       "    .dataframe tbody tr th {\n",
       "        vertical-align: top;\n",
       "    }\n",
       "\n",
       "    .dataframe thead th {\n",
       "        text-align: right;\n",
       "    }\n",
       "</style>\n",
       "<table border=\"1\" class=\"dataframe\">\n",
       "  <thead>\n",
       "    <tr style=\"text-align: right;\">\n",
       "      <th></th>\n",
       "      <th>timestamp</th>\n",
       "      <th>symbol</th>\n",
       "      <th>side</th>\n",
       "      <th>flag</th>\n",
       "      <th>size</th>\n",
       "      <th>price</th>\n",
       "    </tr>\n",
       "  </thead>\n",
       "  <tbody>\n",
       "    <tr>\n",
       "      <th>0</th>\n",
       "      <td>1600782014</td>\n",
       "      <td>AAPL</td>\n",
       "      <td>buy</td>\n",
       "      <td>\u0001</td>\n",
       "      <td>100.0</td>\n",
       "      <td>110.93</td>\n",
       "    </tr>\n",
       "    <tr>\n",
       "      <th>1</th>\n",
       "      <td>1600782014</td>\n",
       "      <td>AAPL</td>\n",
       "      <td>buy</td>\n",
       "      <td>\u0001</td>\n",
       "      <td>0.0</td>\n",
       "      <td>110.93</td>\n",
       "    </tr>\n",
       "    <tr>\n",
       "      <th>2</th>\n",
       "      <td>1600782014</td>\n",
       "      <td>AAPL</td>\n",
       "      <td>sell</td>\n",
       "      <td>\u0001</td>\n",
       "      <td>100.0</td>\n",
       "      <td>110.99</td>\n",
       "    </tr>\n",
       "    <tr>\n",
       "      <th>3</th>\n",
       "      <td>1600782018</td>\n",
       "      <td>AAPL</td>\n",
       "      <td>buy</td>\n",
       "      <td>\u0001</td>\n",
       "      <td>100.0</td>\n",
       "      <td>111.03</td>\n",
       "    </tr>\n",
       "    <tr>\n",
       "      <th>4</th>\n",
       "      <td>1600782018</td>\n",
       "      <td>AAPL</td>\n",
       "      <td>buy</td>\n",
       "      <td>\u0001</td>\n",
       "      <td>0.0</td>\n",
       "      <td>111.03</td>\n",
       "    </tr>\n",
       "  </tbody>\n",
       "</table>\n",
       "</div>"
      ],
      "text/plain": [
       "    timestamp symbol  side flag   size   price\n",
       "0  1600782014   AAPL   buy    \u0001  100.0  110.93\n",
       "1  1600782014   AAPL   buy    \u0001    0.0  110.93\n",
       "2  1600782014   AAPL  sell    \u0001  100.0  110.99\n",
       "3  1600782018   AAPL   buy    \u0001  100.0  111.03\n",
       "4  1600782018   AAPL   buy    \u0001    0.0  111.03"
      ]
     },
     "execution_count": 36,
     "metadata": {},
     "output_type": "execute_result"
    }
   ],
   "source": [
    "_tmp_data = data[0:100]\n",
    "_tmp_data.head()\n",
    "\n",
    "# _tmp_data['timestamp'] = [int(x) for x in _tmp_data['timestamp'].values/1e9]"
   ]
  },
  {
   "cell_type": "code",
   "execution_count": 39,
   "metadata": {},
   "outputs": [
    {
     "name": "stdout",
     "output_type": "stream",
     "text": [
      "110.93 111.29\n"
     ]
    }
   ],
   "source": [
    "min_price = _tmp_data['price'].values.min()\n",
    "max_price = _tmp_data['price'].values.max()\n",
    "print(min_price, max_price)\n"
   ]
  },
  {
   "cell_type": "code",
   "execution_count": 33,
   "metadata": {},
   "outputs": [],
   "source": [
    "import pandas as pd\n",
    "import plotly.express as px "
   ]
  },
  {
   "cell_type": "code",
   "execution_count": 41,
   "metadata": {
    "scrolled": false
   },
   "outputs": [
    {
     "data": {
      "application/vnd.plotly.v1+json": {
       "config": {
        "plotlyServerURL": "https://plot.ly"
       },
       "data": [
        {
         "alignmentgroup": "True",
         "hoverlabel": {
          "namelength": 0
         },
         "hovertemplate": "side=buy<br>timestamp=1600782014<br>price=%{x}<br>size=%{y}",
         "ids": [
          "buy",
          "buy"
         ],
         "legendgroup": "side=buy",
         "marker": {
          "color": "#636efa"
         },
         "name": "side=buy",
         "offsetgroup": "side=buy",
         "orientation": "v",
         "showlegend": true,
         "textposition": "auto",
         "type": "bar",
         "x": [
          110.93,
          110.93
         ],
         "xaxis": "x",
         "y": [
          100,
          0
         ],
         "yaxis": "y"
        },
        {
         "alignmentgroup": "True",
         "hoverlabel": {
          "namelength": 0
         },
         "hovertemplate": "side=sell<br>timestamp=1600782014<br>price=%{x}<br>size=%{y}",
         "ids": [
          "sell"
         ],
         "legendgroup": "side=sell",
         "marker": {
          "color": "#EF553B"
         },
         "name": "side=sell",
         "offsetgroup": "side=sell",
         "orientation": "v",
         "showlegend": true,
         "textposition": "auto",
         "type": "bar",
         "x": [
          110.99
         ],
         "xaxis": "x",
         "y": [
          100
         ],
         "yaxis": "y"
        }
       ],
       "frames": [
        {
         "data": [
          {
           "alignmentgroup": "True",
           "hoverlabel": {
            "namelength": 0
           },
           "hovertemplate": "side=buy<br>timestamp=1600782014<br>price=%{x}<br>size=%{y}",
           "ids": [
            "buy",
            "buy"
           ],
           "legendgroup": "side=buy",
           "marker": {
            "color": "#636efa"
           },
           "name": "side=buy",
           "offsetgroup": "side=buy",
           "orientation": "v",
           "showlegend": true,
           "textposition": "auto",
           "type": "bar",
           "x": [
            110.93,
            110.93
           ],
           "xaxis": "x",
           "y": [
            100,
            0
           ],
           "yaxis": "y"
          },
          {
           "alignmentgroup": "True",
           "hoverlabel": {
            "namelength": 0
           },
           "hovertemplate": "side=sell<br>timestamp=1600782014<br>price=%{x}<br>size=%{y}",
           "ids": [
            "sell"
           ],
           "legendgroup": "side=sell",
           "marker": {
            "color": "#EF553B"
           },
           "name": "side=sell",
           "offsetgroup": "side=sell",
           "orientation": "v",
           "showlegend": true,
           "textposition": "auto",
           "type": "bar",
           "x": [
            110.99
           ],
           "xaxis": "x",
           "y": [
            100
           ],
           "yaxis": "y"
          }
         ],
         "name": "1600782014"
        },
        {
         "data": [
          {
           "alignmentgroup": "True",
           "hoverlabel": {
            "namelength": 0
           },
           "hovertemplate": "side=buy<br>timestamp=1600782018<br>price=%{x}<br>size=%{y}",
           "ids": [
            "buy",
            "buy",
            "buy",
            "buy"
           ],
           "legendgroup": "side=buy",
           "marker": {
            "color": "#636efa"
           },
           "name": "side=buy",
           "offsetgroup": "side=buy",
           "orientation": "v",
           "showlegend": true,
           "textposition": "auto",
           "type": "bar",
           "x": [
            111.03,
            111.03,
            111.05,
            111.05
           ],
           "xaxis": "x",
           "y": [
            100,
            0,
            100,
            0
           ],
           "yaxis": "y"
          }
         ],
         "name": "1600782018"
        },
        {
         "data": [
          {
           "alignmentgroup": "True",
           "hoverlabel": {
            "namelength": 0
           },
           "hovertemplate": "side=sell<br>timestamp=1600782019<br>price=%{x}<br>size=%{y}",
           "ids": [
            "sell",
            "sell"
           ],
           "legendgroup": "side=sell",
           "marker": {
            "color": "#EF553B"
           },
           "name": "side=sell",
           "offsetgroup": "side=sell",
           "orientation": "v",
           "showlegend": true,
           "textposition": "auto",
           "type": "bar",
           "x": [
            111.05,
            111.05
           ],
           "xaxis": "x",
           "y": [
            100,
            0
           ],
           "yaxis": "y"
          }
         ],
         "name": "1600782019"
        },
        {
         "data": [
          {
           "alignmentgroup": "True",
           "hoverlabel": {
            "namelength": 0
           },
           "hovertemplate": "side=buy<br>timestamp=1600782020<br>price=%{x}<br>size=%{y}",
           "ids": [
            "buy",
            "buy",
            "buy",
            "buy",
            "buy",
            "buy",
            "buy",
            "buy"
           ],
           "legendgroup": "side=buy",
           "marker": {
            "color": "#636efa"
           },
           "name": "side=buy",
           "offsetgroup": "side=buy",
           "orientation": "v",
           "showlegend": true,
           "textposition": "auto",
           "type": "bar",
           "x": [
            111.02,
            111.02,
            111.02,
            111.02,
            111.03,
            111.04,
            111.03,
            111.04
           ],
           "xaxis": "x",
           "y": [
            100,
            0,
            100,
            0,
            100,
            100,
            0,
            0
           ],
           "yaxis": "y"
          }
         ],
         "name": "1600782020"
        },
        {
         "data": [
          {
           "alignmentgroup": "True",
           "hoverlabel": {
            "namelength": 0
           },
           "hovertemplate": "side=buy<br>timestamp=1600782021<br>price=%{x}<br>size=%{y}",
           "ids": [
            "buy",
            "buy",
            "buy",
            "buy"
           ],
           "legendgroup": "side=buy",
           "marker": {
            "color": "#636efa"
           },
           "name": "side=buy",
           "offsetgroup": "side=buy",
           "orientation": "v",
           "showlegend": true,
           "textposition": "auto",
           "type": "bar",
           "x": [
            111.06,
            111.06,
            111.06,
            111.06
           ],
           "xaxis": "x",
           "y": [
            100,
            0,
            100,
            0
           ],
           "yaxis": "y"
          }
         ],
         "name": "1600782021"
        },
        {
         "data": [
          {
           "alignmentgroup": "True",
           "hoverlabel": {
            "namelength": 0
           },
           "hovertemplate": "side=buy<br>timestamp=1600782022<br>price=%{x}<br>size=%{y}",
           "ids": [
            "buy",
            "buy",
            "buy",
            "buy"
           ],
           "legendgroup": "side=buy",
           "marker": {
            "color": "#636efa"
           },
           "name": "side=buy",
           "offsetgroup": "side=buy",
           "orientation": "v",
           "showlegend": true,
           "textposition": "auto",
           "type": "bar",
           "x": [
            111.08,
            111.08,
            111.11,
            111.11
           ],
           "xaxis": "x",
           "y": [
            100,
            0,
            100,
            0
           ],
           "yaxis": "y"
          }
         ],
         "name": "1600782022"
        },
        {
         "data": [
          {
           "alignmentgroup": "True",
           "hoverlabel": {
            "namelength": 0
           },
           "hovertemplate": "side=sell<br>timestamp=1600782023<br>price=%{x}<br>size=%{y}",
           "ids": [
            "sell",
            "sell",
            "sell"
           ],
           "legendgroup": "side=sell",
           "marker": {
            "color": "#EF553B"
           },
           "name": "side=sell",
           "offsetgroup": "side=sell",
           "orientation": "v",
           "showlegend": true,
           "textposition": "auto",
           "type": "bar",
           "x": [
            111.11,
            111.11,
            111.1
           ],
           "xaxis": "x",
           "y": [
            100,
            0,
            100
           ],
           "yaxis": "y"
          }
         ],
         "name": "1600782023"
        },
        {
         "data": [
          {
           "alignmentgroup": "True",
           "hoverlabel": {
            "namelength": 0
           },
           "hovertemplate": "side=buy<br>timestamp=1600782024<br>price=%{x}<br>size=%{y}",
           "ids": [
            "buy",
            "buy"
           ],
           "legendgroup": "side=buy",
           "marker": {
            "color": "#636efa"
           },
           "name": "side=buy",
           "offsetgroup": "side=buy",
           "orientation": "v",
           "showlegend": true,
           "textposition": "auto",
           "type": "bar",
           "x": [
            111.1,
            111.1
           ],
           "xaxis": "x",
           "y": [
            100,
            0
           ],
           "yaxis": "y"
          },
          {
           "alignmentgroup": "True",
           "hoverlabel": {
            "namelength": 0
           },
           "hovertemplate": "side=sell<br>timestamp=1600782024<br>price=%{x}<br>size=%{y}",
           "ids": [
            "sell"
           ],
           "legendgroup": "side=sell",
           "marker": {
            "color": "#EF553B"
           },
           "name": "side=sell",
           "offsetgroup": "side=sell",
           "orientation": "v",
           "showlegend": true,
           "textposition": "auto",
           "type": "bar",
           "x": [
            111.1
           ],
           "xaxis": "x",
           "y": [
            0
           ],
           "yaxis": "y"
          }
         ],
         "name": "1600782024"
        },
        {
         "data": [
          {
           "alignmentgroup": "True",
           "hoverlabel": {
            "namelength": 0
           },
           "hovertemplate": "side=buy<br>timestamp=1600782025<br>price=%{x}<br>size=%{y}",
           "ids": [
            "buy",
            "buy",
            "buy",
            "buy"
           ],
           "legendgroup": "side=buy",
           "marker": {
            "color": "#636efa"
           },
           "name": "side=buy",
           "offsetgroup": "side=buy",
           "orientation": "v",
           "showlegend": true,
           "textposition": "auto",
           "type": "bar",
           "x": [
            111.12,
            111.12,
            111.15,
            111.15
           ],
           "xaxis": "x",
           "y": [
            100,
            0,
            100,
            0
           ],
           "yaxis": "y"
          }
         ],
         "name": "1600782025"
        },
        {
         "data": [
          {
           "alignmentgroup": "True",
           "hoverlabel": {
            "namelength": 0
           },
           "hovertemplate": "side=buy<br>timestamp=1600782026<br>price=%{x}<br>size=%{y}",
           "ids": [
            "buy",
            "buy",
            "buy",
            "buy",
            "buy"
           ],
           "legendgroup": "side=buy",
           "marker": {
            "color": "#636efa"
           },
           "name": "side=buy",
           "offsetgroup": "side=buy",
           "orientation": "v",
           "showlegend": true,
           "textposition": "auto",
           "type": "bar",
           "x": [
            111.15,
            111.15,
            111.15,
            111.15,
            111.15
           ],
           "xaxis": "x",
           "y": [
            100,
            200,
            100,
            0,
            100
           ],
           "yaxis": "y"
          },
          {
           "alignmentgroup": "True",
           "hoverlabel": {
            "namelength": 0
           },
           "hovertemplate": "side=sell<br>timestamp=1600782026<br>price=%{x}<br>size=%{y}",
           "ids": [
            "sell",
            "sell",
            "sell",
            "sell"
           ],
           "legendgroup": "side=sell",
           "marker": {
            "color": "#EF553B"
           },
           "name": "side=sell",
           "offsetgroup": "side=sell",
           "orientation": "v",
           "showlegend": true,
           "textposition": "auto",
           "type": "bar",
           "x": [
            111.16,
            111.16,
            111.16,
            111.16
           ],
           "xaxis": "x",
           "y": [
            100,
            0,
            100,
            0
           ],
           "yaxis": "y"
          }
         ],
         "name": "1600782026"
        },
        {
         "data": [
          {
           "alignmentgroup": "True",
           "hoverlabel": {
            "namelength": 0
           },
           "hovertemplate": "side=buy<br>timestamp=1600782027<br>price=%{x}<br>size=%{y}",
           "ids": [
            "buy"
           ],
           "legendgroup": "side=buy",
           "marker": {
            "color": "#636efa"
           },
           "name": "side=buy",
           "offsetgroup": "side=buy",
           "orientation": "v",
           "showlegend": true,
           "textposition": "auto",
           "type": "bar",
           "x": [
            111.15
           ],
           "xaxis": "x",
           "y": [
            0
           ],
           "yaxis": "y"
          },
          {
           "alignmentgroup": "True",
           "hoverlabel": {
            "namelength": 0
           },
           "hovertemplate": "side=sell<br>timestamp=1600782027<br>price=%{x}<br>size=%{y}",
           "ids": [
            "sell",
            "sell"
           ],
           "legendgroup": "side=sell",
           "marker": {
            "color": "#EF553B"
           },
           "name": "side=sell",
           "offsetgroup": "side=sell",
           "orientation": "v",
           "showlegend": true,
           "textposition": "auto",
           "type": "bar",
           "x": [
            111.18,
            111.18
           ],
           "xaxis": "x",
           "y": [
            100,
            0
           ],
           "yaxis": "y"
          }
         ],
         "name": "1600782027"
        },
        {
         "data": [
          {
           "alignmentgroup": "True",
           "hoverlabel": {
            "namelength": 0
           },
           "hovertemplate": "side=buy<br>timestamp=1600782031<br>price=%{x}<br>size=%{y}",
           "ids": [
            "buy",
            "buy",
            "buy",
            "buy",
            "buy",
            "buy"
           ],
           "legendgroup": "side=buy",
           "marker": {
            "color": "#636efa"
           },
           "name": "side=buy",
           "offsetgroup": "side=buy",
           "orientation": "v",
           "showlegend": true,
           "textposition": "auto",
           "type": "bar",
           "x": [
            111.24,
            111.24,
            111.22,
            111.22,
            111.24,
            111.24
           ],
           "xaxis": "x",
           "y": [
            100,
            0,
            100,
            0,
            100,
            0
           ],
           "yaxis": "y"
          }
         ],
         "name": "1600782031"
        },
        {
         "data": [
          {
           "alignmentgroup": "True",
           "hoverlabel": {
            "namelength": 0
           },
           "hovertemplate": "side=buy<br>timestamp=1600782032<br>price=%{x}<br>size=%{y}",
           "ids": [
            "buy",
            "buy"
           ],
           "legendgroup": "side=buy",
           "marker": {
            "color": "#636efa"
           },
           "name": "side=buy",
           "offsetgroup": "side=buy",
           "orientation": "v",
           "showlegend": true,
           "textposition": "auto",
           "type": "bar",
           "x": [
            111.22,
            111.22
           ],
           "xaxis": "x",
           "y": [
            100,
            0
           ],
           "yaxis": "y"
          },
          {
           "alignmentgroup": "True",
           "hoverlabel": {
            "namelength": 0
           },
           "hovertemplate": "side=sell<br>timestamp=1600782032<br>price=%{x}<br>size=%{y}",
           "ids": [
            "sell",
            "sell",
            "sell",
            "sell",
            "sell",
            "sell",
            "sell",
            "sell",
            "sell",
            "sell",
            "sell"
           ],
           "legendgroup": "side=sell",
           "marker": {
            "color": "#EF553B"
           },
           "name": "side=sell",
           "offsetgroup": "side=sell",
           "orientation": "v",
           "showlegend": true,
           "textposition": "auto",
           "type": "bar",
           "x": [
            111.27,
            111.27,
            111.27,
            111.27,
            111.25,
            111.25,
            111.24,
            111.24,
            111.24,
            111.24,
            111.24
           ],
           "xaxis": "x",
           "y": [
            100,
            200,
            100,
            0,
            100,
            0,
            100,
            0,
            100,
            0,
            100
           ],
           "yaxis": "y"
          }
         ],
         "name": "1600782032"
        },
        {
         "data": [
          {
           "alignmentgroup": "True",
           "hoverlabel": {
            "namelength": 0
           },
           "hovertemplate": "side=sell<br>timestamp=1600782033<br>price=%{x}<br>size=%{y}",
           "ids": [
            "sell"
           ],
           "legendgroup": "side=sell",
           "marker": {
            "color": "#EF553B"
           },
           "name": "side=sell",
           "offsetgroup": "side=sell",
           "orientation": "v",
           "showlegend": true,
           "textposition": "auto",
           "type": "bar",
           "x": [
            111.24
           ],
           "xaxis": "x",
           "y": [
            0
           ],
           "yaxis": "y"
          }
         ],
         "name": "1600782033"
        },
        {
         "data": [
          {
           "alignmentgroup": "True",
           "hoverlabel": {
            "namelength": 0
           },
           "hovertemplate": "side=buy<br>timestamp=1600782034<br>price=%{x}<br>size=%{y}",
           "ids": [
            "buy",
            "buy",
            "buy",
            "buy",
            "buy",
            "buy",
            "buy",
            "buy"
           ],
           "legendgroup": "side=buy",
           "marker": {
            "color": "#636efa"
           },
           "name": "side=buy",
           "offsetgroup": "side=buy",
           "orientation": "v",
           "showlegend": true,
           "textposition": "auto",
           "type": "bar",
           "x": [
            111.25,
            111.25,
            111.25,
            111.25,
            111.25,
            111.25,
            111.25,
            111.25
           ],
           "xaxis": "x",
           "y": [
            100,
            0,
            100,
            0,
            100,
            200,
            100,
            0
           ],
           "yaxis": "y"
          }
         ],
         "name": "1600782034"
        },
        {
         "data": [
          {
           "alignmentgroup": "True",
           "hoverlabel": {
            "namelength": 0
           },
           "hovertemplate": "side=buy<br>timestamp=1600782035<br>price=%{x}<br>size=%{y}",
           "ids": [
            "buy",
            "buy",
            "buy",
            "buy",
            "buy"
           ],
           "legendgroup": "side=buy",
           "marker": {
            "color": "#636efa"
           },
           "name": "side=buy",
           "offsetgroup": "side=buy",
           "orientation": "v",
           "showlegend": true,
           "textposition": "auto",
           "type": "bar",
           "x": [
            111.27,
            111.27,
            111.27,
            111.26,
            111.26
           ],
           "xaxis": "x",
           "y": [
            100,
            0,
            100,
            100,
            0
           ],
           "yaxis": "y"
          }
         ],
         "name": "1600782035"
        },
        {
         "data": [
          {
           "alignmentgroup": "True",
           "hoverlabel": {
            "namelength": 0
           },
           "hovertemplate": "side=buy<br>timestamp=1600782036<br>price=%{x}<br>size=%{y}",
           "ids": [
            "buy",
            "buy",
            "buy",
            "buy",
            "buy"
           ],
           "legendgroup": "side=buy",
           "marker": {
            "color": "#636efa"
           },
           "name": "side=buy",
           "offsetgroup": "side=buy",
           "orientation": "v",
           "showlegend": true,
           "textposition": "auto",
           "type": "bar",
           "x": [
            111.27,
            111.25,
            111.25,
            111.25,
            111.25
           ],
           "xaxis": "x",
           "y": [
            0,
            100,
            0,
            100,
            0
           ],
           "yaxis": "y"
          }
         ],
         "name": "1600782036"
        },
        {
         "data": [
          {
           "alignmentgroup": "True",
           "hoverlabel": {
            "namelength": 0
           },
           "hovertemplate": "side=sell<br>timestamp=1600782037<br>price=%{x}<br>size=%{y}",
           "ids": [
            "sell",
            "sell"
           ],
           "legendgroup": "side=sell",
           "marker": {
            "color": "#EF553B"
           },
           "name": "side=sell",
           "offsetgroup": "side=sell",
           "orientation": "v",
           "showlegend": true,
           "textposition": "auto",
           "type": "bar",
           "x": [
            111.26,
            111.26
           ],
           "xaxis": "x",
           "y": [
            100,
            0
           ],
           "yaxis": "y"
          }
         ],
         "name": "1600782037"
        },
        {
         "data": [
          {
           "alignmentgroup": "True",
           "hoverlabel": {
            "namelength": 0
           },
           "hovertemplate": "side=buy<br>timestamp=1600782030<br>price=%{x}<br>size=%{y}",
           "ids": [
            "buy",
            "buy",
            "buy",
            "buy",
            "buy",
            "buy"
           ],
           "legendgroup": "side=buy",
           "marker": {
            "color": "#636efa"
           },
           "name": "side=buy",
           "offsetgroup": "side=buy",
           "orientation": "v",
           "showlegend": true,
           "textposition": "auto",
           "type": "bar",
           "x": [
            111.19,
            111.19,
            111.18,
            111.18,
            111.21,
            111.21
           ],
           "xaxis": "x",
           "y": [
            100,
            0,
            100,
            0,
            100,
            0
           ],
           "yaxis": "y"
          }
         ],
         "name": "1600782030"
        },
        {
         "data": [
          {
           "alignmentgroup": "True",
           "hoverlabel": {
            "namelength": 0
           },
           "hovertemplate": "side=buy<br>timestamp=1600782038<br>price=%{x}<br>size=%{y}",
           "ids": [
            "buy",
            "buy"
           ],
           "legendgroup": "side=buy",
           "marker": {
            "color": "#636efa"
           },
           "name": "side=buy",
           "offsetgroup": "side=buy",
           "orientation": "v",
           "showlegend": true,
           "textposition": "auto",
           "type": "bar",
           "x": [
            111.22,
            111.22
           ],
           "xaxis": "x",
           "y": [
            100,
            0
           ],
           "yaxis": "y"
          }
         ],
         "name": "1600782038"
        },
        {
         "data": [
          {
           "alignmentgroup": "True",
           "hoverlabel": {
            "namelength": 0
           },
           "hovertemplate": "side=buy<br>timestamp=1600782041<br>price=%{x}<br>size=%{y}",
           "ids": [
            "buy"
           ],
           "legendgroup": "side=buy",
           "marker": {
            "color": "#636efa"
           },
           "name": "side=buy",
           "offsetgroup": "side=buy",
           "orientation": "v",
           "showlegend": true,
           "textposition": "auto",
           "type": "bar",
           "x": [
            111.21
           ],
           "xaxis": "x",
           "y": [
            100
           ],
           "yaxis": "y"
          }
         ],
         "name": "1600782041"
        },
        {
         "data": [
          {
           "alignmentgroup": "True",
           "hoverlabel": {
            "namelength": 0
           },
           "hovertemplate": "side=buy<br>timestamp=1600782047<br>price=%{x}<br>size=%{y}",
           "ids": [
            "buy",
            "buy",
            "buy"
           ],
           "legendgroup": "side=buy",
           "marker": {
            "color": "#636efa"
           },
           "name": "side=buy",
           "offsetgroup": "side=buy",
           "orientation": "v",
           "showlegend": true,
           "textposition": "auto",
           "type": "bar",
           "x": [
            111.29,
            111.28,
            111.28
           ],
           "xaxis": "x",
           "y": [
            100,
            100,
            0
           ],
           "yaxis": "y"
          }
         ],
         "name": "1600782047"
        },
        {
         "data": [
          {
           "alignmentgroup": "True",
           "hoverlabel": {
            "namelength": 0
           },
           "hovertemplate": "side=buy<br>timestamp=1600782043<br>price=%{x}<br>size=%{y}",
           "ids": [
            "buy"
           ],
           "legendgroup": "side=buy",
           "marker": {
            "color": "#636efa"
           },
           "name": "side=buy",
           "offsetgroup": "side=buy",
           "orientation": "v",
           "showlegend": true,
           "textposition": "auto",
           "type": "bar",
           "x": [
            111.24
           ],
           "xaxis": "x",
           "y": [
            100
           ],
           "yaxis": "y"
          }
         ],
         "name": "1600782043"
        }
       ],
       "layout": {
        "barmode": "relative",
        "height": 600,
        "legend": {
         "tracegroupgap": 0
        },
        "margin": {
         "t": 60
        },
        "sliders": [
         {
          "active": 0,
          "currentvalue": {
           "prefix": "timestamp="
          },
          "len": 0.9,
          "pad": {
           "b": 10,
           "t": 60
          },
          "steps": [
           {
            "args": [
             [
              "1600782014"
             ],
             {
              "frame": {
               "duration": 0,
               "redraw": true
              },
              "fromcurrent": true,
              "mode": "immediate",
              "transition": {
               "duration": 0,
               "easing": "linear"
              }
             }
            ],
            "label": "1600782014",
            "method": "animate"
           },
           {
            "args": [
             [
              "1600782018"
             ],
             {
              "frame": {
               "duration": 0,
               "redraw": true
              },
              "fromcurrent": true,
              "mode": "immediate",
              "transition": {
               "duration": 0,
               "easing": "linear"
              }
             }
            ],
            "label": "1600782018",
            "method": "animate"
           },
           {
            "args": [
             [
              "1600782019"
             ],
             {
              "frame": {
               "duration": 0,
               "redraw": true
              },
              "fromcurrent": true,
              "mode": "immediate",
              "transition": {
               "duration": 0,
               "easing": "linear"
              }
             }
            ],
            "label": "1600782019",
            "method": "animate"
           },
           {
            "args": [
             [
              "1600782020"
             ],
             {
              "frame": {
               "duration": 0,
               "redraw": true
              },
              "fromcurrent": true,
              "mode": "immediate",
              "transition": {
               "duration": 0,
               "easing": "linear"
              }
             }
            ],
            "label": "1600782020",
            "method": "animate"
           },
           {
            "args": [
             [
              "1600782021"
             ],
             {
              "frame": {
               "duration": 0,
               "redraw": true
              },
              "fromcurrent": true,
              "mode": "immediate",
              "transition": {
               "duration": 0,
               "easing": "linear"
              }
             }
            ],
            "label": "1600782021",
            "method": "animate"
           },
           {
            "args": [
             [
              "1600782022"
             ],
             {
              "frame": {
               "duration": 0,
               "redraw": true
              },
              "fromcurrent": true,
              "mode": "immediate",
              "transition": {
               "duration": 0,
               "easing": "linear"
              }
             }
            ],
            "label": "1600782022",
            "method": "animate"
           },
           {
            "args": [
             [
              "1600782023"
             ],
             {
              "frame": {
               "duration": 0,
               "redraw": true
              },
              "fromcurrent": true,
              "mode": "immediate",
              "transition": {
               "duration": 0,
               "easing": "linear"
              }
             }
            ],
            "label": "1600782023",
            "method": "animate"
           },
           {
            "args": [
             [
              "1600782024"
             ],
             {
              "frame": {
               "duration": 0,
               "redraw": true
              },
              "fromcurrent": true,
              "mode": "immediate",
              "transition": {
               "duration": 0,
               "easing": "linear"
              }
             }
            ],
            "label": "1600782024",
            "method": "animate"
           },
           {
            "args": [
             [
              "1600782025"
             ],
             {
              "frame": {
               "duration": 0,
               "redraw": true
              },
              "fromcurrent": true,
              "mode": "immediate",
              "transition": {
               "duration": 0,
               "easing": "linear"
              }
             }
            ],
            "label": "1600782025",
            "method": "animate"
           },
           {
            "args": [
             [
              "1600782026"
             ],
             {
              "frame": {
               "duration": 0,
               "redraw": true
              },
              "fromcurrent": true,
              "mode": "immediate",
              "transition": {
               "duration": 0,
               "easing": "linear"
              }
             }
            ],
            "label": "1600782026",
            "method": "animate"
           },
           {
            "args": [
             [
              "1600782027"
             ],
             {
              "frame": {
               "duration": 0,
               "redraw": true
              },
              "fromcurrent": true,
              "mode": "immediate",
              "transition": {
               "duration": 0,
               "easing": "linear"
              }
             }
            ],
            "label": "1600782027",
            "method": "animate"
           },
           {
            "args": [
             [
              "1600782031"
             ],
             {
              "frame": {
               "duration": 0,
               "redraw": true
              },
              "fromcurrent": true,
              "mode": "immediate",
              "transition": {
               "duration": 0,
               "easing": "linear"
              }
             }
            ],
            "label": "1600782031",
            "method": "animate"
           },
           {
            "args": [
             [
              "1600782032"
             ],
             {
              "frame": {
               "duration": 0,
               "redraw": true
              },
              "fromcurrent": true,
              "mode": "immediate",
              "transition": {
               "duration": 0,
               "easing": "linear"
              }
             }
            ],
            "label": "1600782032",
            "method": "animate"
           },
           {
            "args": [
             [
              "1600782033"
             ],
             {
              "frame": {
               "duration": 0,
               "redraw": true
              },
              "fromcurrent": true,
              "mode": "immediate",
              "transition": {
               "duration": 0,
               "easing": "linear"
              }
             }
            ],
            "label": "1600782033",
            "method": "animate"
           },
           {
            "args": [
             [
              "1600782034"
             ],
             {
              "frame": {
               "duration": 0,
               "redraw": true
              },
              "fromcurrent": true,
              "mode": "immediate",
              "transition": {
               "duration": 0,
               "easing": "linear"
              }
             }
            ],
            "label": "1600782034",
            "method": "animate"
           },
           {
            "args": [
             [
              "1600782035"
             ],
             {
              "frame": {
               "duration": 0,
               "redraw": true
              },
              "fromcurrent": true,
              "mode": "immediate",
              "transition": {
               "duration": 0,
               "easing": "linear"
              }
             }
            ],
            "label": "1600782035",
            "method": "animate"
           },
           {
            "args": [
             [
              "1600782036"
             ],
             {
              "frame": {
               "duration": 0,
               "redraw": true
              },
              "fromcurrent": true,
              "mode": "immediate",
              "transition": {
               "duration": 0,
               "easing": "linear"
              }
             }
            ],
            "label": "1600782036",
            "method": "animate"
           },
           {
            "args": [
             [
              "1600782037"
             ],
             {
              "frame": {
               "duration": 0,
               "redraw": true
              },
              "fromcurrent": true,
              "mode": "immediate",
              "transition": {
               "duration": 0,
               "easing": "linear"
              }
             }
            ],
            "label": "1600782037",
            "method": "animate"
           },
           {
            "args": [
             [
              "1600782030"
             ],
             {
              "frame": {
               "duration": 0,
               "redraw": true
              },
              "fromcurrent": true,
              "mode": "immediate",
              "transition": {
               "duration": 0,
               "easing": "linear"
              }
             }
            ],
            "label": "1600782030",
            "method": "animate"
           },
           {
            "args": [
             [
              "1600782038"
             ],
             {
              "frame": {
               "duration": 0,
               "redraw": true
              },
              "fromcurrent": true,
              "mode": "immediate",
              "transition": {
               "duration": 0,
               "easing": "linear"
              }
             }
            ],
            "label": "1600782038",
            "method": "animate"
           },
           {
            "args": [
             [
              "1600782041"
             ],
             {
              "frame": {
               "duration": 0,
               "redraw": true
              },
              "fromcurrent": true,
              "mode": "immediate",
              "transition": {
               "duration": 0,
               "easing": "linear"
              }
             }
            ],
            "label": "1600782041",
            "method": "animate"
           },
           {
            "args": [
             [
              "1600782047"
             ],
             {
              "frame": {
               "duration": 0,
               "redraw": true
              },
              "fromcurrent": true,
              "mode": "immediate",
              "transition": {
               "duration": 0,
               "easing": "linear"
              }
             }
            ],
            "label": "1600782047",
            "method": "animate"
           },
           {
            "args": [
             [
              "1600782043"
             ],
             {
              "frame": {
               "duration": 0,
               "redraw": true
              },
              "fromcurrent": true,
              "mode": "immediate",
              "transition": {
               "duration": 0,
               "easing": "linear"
              }
             }
            ],
            "label": "1600782043",
            "method": "animate"
           }
          ],
          "x": 0.1,
          "xanchor": "left",
          "y": 0,
          "yanchor": "top"
         }
        ],
        "template": {
         "data": {
          "bar": [
           {
            "error_x": {
             "color": "#2a3f5f"
            },
            "error_y": {
             "color": "#2a3f5f"
            },
            "marker": {
             "line": {
              "color": "#E5ECF6",
              "width": 0.5
             }
            },
            "type": "bar"
           }
          ],
          "barpolar": [
           {
            "marker": {
             "line": {
              "color": "#E5ECF6",
              "width": 0.5
             }
            },
            "type": "barpolar"
           }
          ],
          "carpet": [
           {
            "aaxis": {
             "endlinecolor": "#2a3f5f",
             "gridcolor": "white",
             "linecolor": "white",
             "minorgridcolor": "white",
             "startlinecolor": "#2a3f5f"
            },
            "baxis": {
             "endlinecolor": "#2a3f5f",
             "gridcolor": "white",
             "linecolor": "white",
             "minorgridcolor": "white",
             "startlinecolor": "#2a3f5f"
            },
            "type": "carpet"
           }
          ],
          "choropleth": [
           {
            "colorbar": {
             "outlinewidth": 0,
             "ticks": ""
            },
            "type": "choropleth"
           }
          ],
          "contour": [
           {
            "colorbar": {
             "outlinewidth": 0,
             "ticks": ""
            },
            "colorscale": [
             [
              0,
              "#0d0887"
             ],
             [
              0.1111111111111111,
              "#46039f"
             ],
             [
              0.2222222222222222,
              "#7201a8"
             ],
             [
              0.3333333333333333,
              "#9c179e"
             ],
             [
              0.4444444444444444,
              "#bd3786"
             ],
             [
              0.5555555555555556,
              "#d8576b"
             ],
             [
              0.6666666666666666,
              "#ed7953"
             ],
             [
              0.7777777777777778,
              "#fb9f3a"
             ],
             [
              0.8888888888888888,
              "#fdca26"
             ],
             [
              1,
              "#f0f921"
             ]
            ],
            "type": "contour"
           }
          ],
          "contourcarpet": [
           {
            "colorbar": {
             "outlinewidth": 0,
             "ticks": ""
            },
            "type": "contourcarpet"
           }
          ],
          "heatmap": [
           {
            "colorbar": {
             "outlinewidth": 0,
             "ticks": ""
            },
            "colorscale": [
             [
              0,
              "#0d0887"
             ],
             [
              0.1111111111111111,
              "#46039f"
             ],
             [
              0.2222222222222222,
              "#7201a8"
             ],
             [
              0.3333333333333333,
              "#9c179e"
             ],
             [
              0.4444444444444444,
              "#bd3786"
             ],
             [
              0.5555555555555556,
              "#d8576b"
             ],
             [
              0.6666666666666666,
              "#ed7953"
             ],
             [
              0.7777777777777778,
              "#fb9f3a"
             ],
             [
              0.8888888888888888,
              "#fdca26"
             ],
             [
              1,
              "#f0f921"
             ]
            ],
            "type": "heatmap"
           }
          ],
          "heatmapgl": [
           {
            "colorbar": {
             "outlinewidth": 0,
             "ticks": ""
            },
            "colorscale": [
             [
              0,
              "#0d0887"
             ],
             [
              0.1111111111111111,
              "#46039f"
             ],
             [
              0.2222222222222222,
              "#7201a8"
             ],
             [
              0.3333333333333333,
              "#9c179e"
             ],
             [
              0.4444444444444444,
              "#bd3786"
             ],
             [
              0.5555555555555556,
              "#d8576b"
             ],
             [
              0.6666666666666666,
              "#ed7953"
             ],
             [
              0.7777777777777778,
              "#fb9f3a"
             ],
             [
              0.8888888888888888,
              "#fdca26"
             ],
             [
              1,
              "#f0f921"
             ]
            ],
            "type": "heatmapgl"
           }
          ],
          "histogram": [
           {
            "marker": {
             "colorbar": {
              "outlinewidth": 0,
              "ticks": ""
             }
            },
            "type": "histogram"
           }
          ],
          "histogram2d": [
           {
            "colorbar": {
             "outlinewidth": 0,
             "ticks": ""
            },
            "colorscale": [
             [
              0,
              "#0d0887"
             ],
             [
              0.1111111111111111,
              "#46039f"
             ],
             [
              0.2222222222222222,
              "#7201a8"
             ],
             [
              0.3333333333333333,
              "#9c179e"
             ],
             [
              0.4444444444444444,
              "#bd3786"
             ],
             [
              0.5555555555555556,
              "#d8576b"
             ],
             [
              0.6666666666666666,
              "#ed7953"
             ],
             [
              0.7777777777777778,
              "#fb9f3a"
             ],
             [
              0.8888888888888888,
              "#fdca26"
             ],
             [
              1,
              "#f0f921"
             ]
            ],
            "type": "histogram2d"
           }
          ],
          "histogram2dcontour": [
           {
            "colorbar": {
             "outlinewidth": 0,
             "ticks": ""
            },
            "colorscale": [
             [
              0,
              "#0d0887"
             ],
             [
              0.1111111111111111,
              "#46039f"
             ],
             [
              0.2222222222222222,
              "#7201a8"
             ],
             [
              0.3333333333333333,
              "#9c179e"
             ],
             [
              0.4444444444444444,
              "#bd3786"
             ],
             [
              0.5555555555555556,
              "#d8576b"
             ],
             [
              0.6666666666666666,
              "#ed7953"
             ],
             [
              0.7777777777777778,
              "#fb9f3a"
             ],
             [
              0.8888888888888888,
              "#fdca26"
             ],
             [
              1,
              "#f0f921"
             ]
            ],
            "type": "histogram2dcontour"
           }
          ],
          "mesh3d": [
           {
            "colorbar": {
             "outlinewidth": 0,
             "ticks": ""
            },
            "type": "mesh3d"
           }
          ],
          "parcoords": [
           {
            "line": {
             "colorbar": {
              "outlinewidth": 0,
              "ticks": ""
             }
            },
            "type": "parcoords"
           }
          ],
          "scatter": [
           {
            "marker": {
             "colorbar": {
              "outlinewidth": 0,
              "ticks": ""
             }
            },
            "type": "scatter"
           }
          ],
          "scatter3d": [
           {
            "line": {
             "colorbar": {
              "outlinewidth": 0,
              "ticks": ""
             }
            },
            "marker": {
             "colorbar": {
              "outlinewidth": 0,
              "ticks": ""
             }
            },
            "type": "scatter3d"
           }
          ],
          "scattercarpet": [
           {
            "marker": {
             "colorbar": {
              "outlinewidth": 0,
              "ticks": ""
             }
            },
            "type": "scattercarpet"
           }
          ],
          "scattergeo": [
           {
            "marker": {
             "colorbar": {
              "outlinewidth": 0,
              "ticks": ""
             }
            },
            "type": "scattergeo"
           }
          ],
          "scattergl": [
           {
            "marker": {
             "colorbar": {
              "outlinewidth": 0,
              "ticks": ""
             }
            },
            "type": "scattergl"
           }
          ],
          "scattermapbox": [
           {
            "marker": {
             "colorbar": {
              "outlinewidth": 0,
              "ticks": ""
             }
            },
            "type": "scattermapbox"
           }
          ],
          "scatterpolar": [
           {
            "marker": {
             "colorbar": {
              "outlinewidth": 0,
              "ticks": ""
             }
            },
            "type": "scatterpolar"
           }
          ],
          "scatterpolargl": [
           {
            "marker": {
             "colorbar": {
              "outlinewidth": 0,
              "ticks": ""
             }
            },
            "type": "scatterpolargl"
           }
          ],
          "scatterternary": [
           {
            "marker": {
             "colorbar": {
              "outlinewidth": 0,
              "ticks": ""
             }
            },
            "type": "scatterternary"
           }
          ],
          "surface": [
           {
            "colorbar": {
             "outlinewidth": 0,
             "ticks": ""
            },
            "colorscale": [
             [
              0,
              "#0d0887"
             ],
             [
              0.1111111111111111,
              "#46039f"
             ],
             [
              0.2222222222222222,
              "#7201a8"
             ],
             [
              0.3333333333333333,
              "#9c179e"
             ],
             [
              0.4444444444444444,
              "#bd3786"
             ],
             [
              0.5555555555555556,
              "#d8576b"
             ],
             [
              0.6666666666666666,
              "#ed7953"
             ],
             [
              0.7777777777777778,
              "#fb9f3a"
             ],
             [
              0.8888888888888888,
              "#fdca26"
             ],
             [
              1,
              "#f0f921"
             ]
            ],
            "type": "surface"
           }
          ],
          "table": [
           {
            "cells": {
             "fill": {
              "color": "#EBF0F8"
             },
             "line": {
              "color": "white"
             }
            },
            "header": {
             "fill": {
              "color": "#C8D4E3"
             },
             "line": {
              "color": "white"
             }
            },
            "type": "table"
           }
          ]
         },
         "layout": {
          "annotationdefaults": {
           "arrowcolor": "#2a3f5f",
           "arrowhead": 0,
           "arrowwidth": 1
          },
          "colorscale": {
           "diverging": [
            [
             0,
             "#8e0152"
            ],
            [
             0.1,
             "#c51b7d"
            ],
            [
             0.2,
             "#de77ae"
            ],
            [
             0.3,
             "#f1b6da"
            ],
            [
             0.4,
             "#fde0ef"
            ],
            [
             0.5,
             "#f7f7f7"
            ],
            [
             0.6,
             "#e6f5d0"
            ],
            [
             0.7,
             "#b8e186"
            ],
            [
             0.8,
             "#7fbc41"
            ],
            [
             0.9,
             "#4d9221"
            ],
            [
             1,
             "#276419"
            ]
           ],
           "sequential": [
            [
             0,
             "#0d0887"
            ],
            [
             0.1111111111111111,
             "#46039f"
            ],
            [
             0.2222222222222222,
             "#7201a8"
            ],
            [
             0.3333333333333333,
             "#9c179e"
            ],
            [
             0.4444444444444444,
             "#bd3786"
            ],
            [
             0.5555555555555556,
             "#d8576b"
            ],
            [
             0.6666666666666666,
             "#ed7953"
            ],
            [
             0.7777777777777778,
             "#fb9f3a"
            ],
            [
             0.8888888888888888,
             "#fdca26"
            ],
            [
             1,
             "#f0f921"
            ]
           ],
           "sequentialminus": [
            [
             0,
             "#0d0887"
            ],
            [
             0.1111111111111111,
             "#46039f"
            ],
            [
             0.2222222222222222,
             "#7201a8"
            ],
            [
             0.3333333333333333,
             "#9c179e"
            ],
            [
             0.4444444444444444,
             "#bd3786"
            ],
            [
             0.5555555555555556,
             "#d8576b"
            ],
            [
             0.6666666666666666,
             "#ed7953"
            ],
            [
             0.7777777777777778,
             "#fb9f3a"
            ],
            [
             0.8888888888888888,
             "#fdca26"
            ],
            [
             1,
             "#f0f921"
            ]
           ]
          },
          "colorway": [
           "#636efa",
           "#EF553B",
           "#00cc96",
           "#ab63fa",
           "#FFA15A",
           "#19d3f3",
           "#FF6692",
           "#B6E880",
           "#FF97FF",
           "#FECB52"
          ],
          "font": {
           "color": "#2a3f5f"
          },
          "geo": {
           "bgcolor": "white",
           "lakecolor": "white",
           "landcolor": "#E5ECF6",
           "showlakes": true,
           "showland": true,
           "subunitcolor": "white"
          },
          "hoverlabel": {
           "align": "left"
          },
          "hovermode": "closest",
          "mapbox": {
           "style": "light"
          },
          "paper_bgcolor": "white",
          "plot_bgcolor": "#E5ECF6",
          "polar": {
           "angularaxis": {
            "gridcolor": "white",
            "linecolor": "white",
            "ticks": ""
           },
           "bgcolor": "#E5ECF6",
           "radialaxis": {
            "gridcolor": "white",
            "linecolor": "white",
            "ticks": ""
           }
          },
          "scene": {
           "xaxis": {
            "backgroundcolor": "#E5ECF6",
            "gridcolor": "white",
            "gridwidth": 2,
            "linecolor": "white",
            "showbackground": true,
            "ticks": "",
            "zerolinecolor": "white"
           },
           "yaxis": {
            "backgroundcolor": "#E5ECF6",
            "gridcolor": "white",
            "gridwidth": 2,
            "linecolor": "white",
            "showbackground": true,
            "ticks": "",
            "zerolinecolor": "white"
           },
           "zaxis": {
            "backgroundcolor": "#E5ECF6",
            "gridcolor": "white",
            "gridwidth": 2,
            "linecolor": "white",
            "showbackground": true,
            "ticks": "",
            "zerolinecolor": "white"
           }
          },
          "shapedefaults": {
           "line": {
            "color": "#2a3f5f"
           }
          },
          "ternary": {
           "aaxis": {
            "gridcolor": "white",
            "linecolor": "white",
            "ticks": ""
           },
           "baxis": {
            "gridcolor": "white",
            "linecolor": "white",
            "ticks": ""
           },
           "bgcolor": "#E5ECF6",
           "caxis": {
            "gridcolor": "white",
            "linecolor": "white",
            "ticks": ""
           }
          },
          "title": {
           "x": 0.05
          },
          "xaxis": {
           "automargin": true,
           "gridcolor": "white",
           "linecolor": "white",
           "ticks": "",
           "zerolinecolor": "white",
           "zerolinewidth": 2
          },
          "yaxis": {
           "automargin": true,
           "gridcolor": "white",
           "linecolor": "white",
           "ticks": "",
           "zerolinecolor": "white",
           "zerolinewidth": 2
          }
         }
        },
        "title": {
         "text": ""
        },
        "updatemenus": [
         {
          "buttons": [
           {
            "args": [
             null,
             {
              "frame": {
               "duration": 500,
               "redraw": true
              },
              "fromcurrent": true,
              "mode": "immediate",
              "transition": {
               "duration": 500,
               "easing": "linear"
              }
             }
            ],
            "label": "&#9654;",
            "method": "animate"
           },
           {
            "args": [
             [
              null
             ],
             {
              "frame": {
               "duration": 0,
               "redraw": true
              },
              "fromcurrent": true,
              "mode": "immediate",
              "transition": {
               "duration": 0,
               "easing": "linear"
              }
             }
            ],
            "label": "&#9724;",
            "method": "animate"
           }
          ],
          "direction": "left",
          "pad": {
           "r": 10,
           "t": 70
          },
          "showactive": false,
          "type": "buttons",
          "x": 0.1,
          "xanchor": "right",
          "y": 0,
          "yanchor": "top"
         }
        ],
        "xaxis": {
         "anchor": "y",
         "domain": [
          0,
          0.98
         ],
         "title": {
          "text": "price"
         }
        },
        "yaxis": {
         "anchor": "x",
         "domain": [
          0,
          1
         ],
         "range": [
          0,
          20
         ],
         "title": {
          "text": "size"
         }
        }
       }
      },
      "text/html": [
       "<div>\n",
       "        \n",
       "        \n",
       "            <div id=\"834d210f-4feb-499d-8a00-5e9b5031f2f7\" class=\"plotly-graph-div\" style=\"height:600px; width:100%;\"></div>\n",
       "            <script type=\"text/javascript\">\n",
       "                require([\"plotly\"], function(Plotly) {\n",
       "                    window.PLOTLYENV=window.PLOTLYENV || {};\n",
       "                    \n",
       "                if (document.getElementById(\"834d210f-4feb-499d-8a00-5e9b5031f2f7\")) {\n",
       "                    Plotly.newPlot(\n",
       "                        '834d210f-4feb-499d-8a00-5e9b5031f2f7',\n",
       "                        [{\"alignmentgroup\": \"True\", \"hoverlabel\": {\"namelength\": 0}, \"hovertemplate\": \"side=buy<br>timestamp=1600782014<br>price=%{x}<br>size=%{y}\", \"ids\": [\"buy\", \"buy\"], \"legendgroup\": \"side=buy\", \"marker\": {\"color\": \"#636efa\"}, \"name\": \"side=buy\", \"offsetgroup\": \"side=buy\", \"orientation\": \"v\", \"showlegend\": true, \"textposition\": \"auto\", \"type\": \"bar\", \"x\": [110.93, 110.93], \"xaxis\": \"x\", \"y\": [100.0, 0.0], \"yaxis\": \"y\"}, {\"alignmentgroup\": \"True\", \"hoverlabel\": {\"namelength\": 0}, \"hovertemplate\": \"side=sell<br>timestamp=1600782014<br>price=%{x}<br>size=%{y}\", \"ids\": [\"sell\"], \"legendgroup\": \"side=sell\", \"marker\": {\"color\": \"#EF553B\"}, \"name\": \"side=sell\", \"offsetgroup\": \"side=sell\", \"orientation\": \"v\", \"showlegend\": true, \"textposition\": \"auto\", \"type\": \"bar\", \"x\": [110.99], \"xaxis\": \"x\", \"y\": [100.0], \"yaxis\": \"y\"}],\n",
       "                        {\"barmode\": \"relative\", \"height\": 600, \"legend\": {\"tracegroupgap\": 0}, \"margin\": {\"t\": 60}, \"sliders\": [{\"active\": 0, \"currentvalue\": {\"prefix\": \"timestamp=\"}, \"len\": 0.9, \"pad\": {\"b\": 10, \"t\": 60}, \"steps\": [{\"args\": [[\"1600782014\"], {\"frame\": {\"duration\": 0, \"redraw\": true}, \"fromcurrent\": true, \"mode\": \"immediate\", \"transition\": {\"duration\": 0, \"easing\": \"linear\"}}], \"label\": \"1600782014\", \"method\": \"animate\"}, {\"args\": [[\"1600782018\"], {\"frame\": {\"duration\": 0, \"redraw\": true}, \"fromcurrent\": true, \"mode\": \"immediate\", \"transition\": {\"duration\": 0, \"easing\": \"linear\"}}], \"label\": \"1600782018\", \"method\": \"animate\"}, {\"args\": [[\"1600782019\"], {\"frame\": {\"duration\": 0, \"redraw\": true}, \"fromcurrent\": true, \"mode\": \"immediate\", \"transition\": {\"duration\": 0, \"easing\": \"linear\"}}], \"label\": \"1600782019\", \"method\": \"animate\"}, {\"args\": [[\"1600782020\"], {\"frame\": {\"duration\": 0, \"redraw\": true}, \"fromcurrent\": true, \"mode\": \"immediate\", \"transition\": {\"duration\": 0, \"easing\": \"linear\"}}], \"label\": \"1600782020\", \"method\": \"animate\"}, {\"args\": [[\"1600782021\"], {\"frame\": {\"duration\": 0, \"redraw\": true}, \"fromcurrent\": true, \"mode\": \"immediate\", \"transition\": {\"duration\": 0, \"easing\": \"linear\"}}], \"label\": \"1600782021\", \"method\": \"animate\"}, {\"args\": [[\"1600782022\"], {\"frame\": {\"duration\": 0, \"redraw\": true}, \"fromcurrent\": true, \"mode\": \"immediate\", \"transition\": {\"duration\": 0, \"easing\": \"linear\"}}], \"label\": \"1600782022\", \"method\": \"animate\"}, {\"args\": [[\"1600782023\"], {\"frame\": {\"duration\": 0, \"redraw\": true}, \"fromcurrent\": true, \"mode\": \"immediate\", \"transition\": {\"duration\": 0, \"easing\": \"linear\"}}], \"label\": \"1600782023\", \"method\": \"animate\"}, {\"args\": [[\"1600782024\"], {\"frame\": {\"duration\": 0, \"redraw\": true}, \"fromcurrent\": true, \"mode\": \"immediate\", \"transition\": {\"duration\": 0, \"easing\": \"linear\"}}], \"label\": \"1600782024\", \"method\": \"animate\"}, {\"args\": [[\"1600782025\"], {\"frame\": {\"duration\": 0, \"redraw\": true}, \"fromcurrent\": true, \"mode\": \"immediate\", \"transition\": {\"duration\": 0, \"easing\": \"linear\"}}], \"label\": \"1600782025\", \"method\": \"animate\"}, {\"args\": [[\"1600782026\"], {\"frame\": {\"duration\": 0, \"redraw\": true}, \"fromcurrent\": true, \"mode\": \"immediate\", \"transition\": {\"duration\": 0, \"easing\": \"linear\"}}], \"label\": \"1600782026\", \"method\": \"animate\"}, {\"args\": [[\"1600782027\"], {\"frame\": {\"duration\": 0, \"redraw\": true}, \"fromcurrent\": true, \"mode\": \"immediate\", \"transition\": {\"duration\": 0, \"easing\": \"linear\"}}], \"label\": \"1600782027\", \"method\": \"animate\"}, {\"args\": [[\"1600782031\"], {\"frame\": {\"duration\": 0, \"redraw\": true}, \"fromcurrent\": true, \"mode\": \"immediate\", \"transition\": {\"duration\": 0, \"easing\": \"linear\"}}], \"label\": \"1600782031\", \"method\": \"animate\"}, {\"args\": [[\"1600782032\"], {\"frame\": {\"duration\": 0, \"redraw\": true}, \"fromcurrent\": true, \"mode\": \"immediate\", \"transition\": {\"duration\": 0, \"easing\": \"linear\"}}], \"label\": \"1600782032\", \"method\": \"animate\"}, {\"args\": [[\"1600782033\"], {\"frame\": {\"duration\": 0, \"redraw\": true}, \"fromcurrent\": true, \"mode\": \"immediate\", \"transition\": {\"duration\": 0, \"easing\": \"linear\"}}], \"label\": \"1600782033\", \"method\": \"animate\"}, {\"args\": [[\"1600782034\"], {\"frame\": {\"duration\": 0, \"redraw\": true}, \"fromcurrent\": true, \"mode\": \"immediate\", \"transition\": {\"duration\": 0, \"easing\": \"linear\"}}], \"label\": \"1600782034\", \"method\": \"animate\"}, {\"args\": [[\"1600782035\"], {\"frame\": {\"duration\": 0, \"redraw\": true}, \"fromcurrent\": true, \"mode\": \"immediate\", \"transition\": {\"duration\": 0, \"easing\": \"linear\"}}], \"label\": \"1600782035\", \"method\": \"animate\"}, {\"args\": [[\"1600782036\"], {\"frame\": {\"duration\": 0, \"redraw\": true}, \"fromcurrent\": true, \"mode\": \"immediate\", \"transition\": {\"duration\": 0, \"easing\": \"linear\"}}], \"label\": \"1600782036\", \"method\": \"animate\"}, {\"args\": [[\"1600782037\"], {\"frame\": {\"duration\": 0, \"redraw\": true}, \"fromcurrent\": true, \"mode\": \"immediate\", \"transition\": {\"duration\": 0, \"easing\": \"linear\"}}], \"label\": \"1600782037\", \"method\": \"animate\"}, {\"args\": [[\"1600782030\"], {\"frame\": {\"duration\": 0, \"redraw\": true}, \"fromcurrent\": true, \"mode\": \"immediate\", \"transition\": {\"duration\": 0, \"easing\": \"linear\"}}], \"label\": \"1600782030\", \"method\": \"animate\"}, {\"args\": [[\"1600782038\"], {\"frame\": {\"duration\": 0, \"redraw\": true}, \"fromcurrent\": true, \"mode\": \"immediate\", \"transition\": {\"duration\": 0, \"easing\": \"linear\"}}], \"label\": \"1600782038\", \"method\": \"animate\"}, {\"args\": [[\"1600782041\"], {\"frame\": {\"duration\": 0, \"redraw\": true}, \"fromcurrent\": true, \"mode\": \"immediate\", \"transition\": {\"duration\": 0, \"easing\": \"linear\"}}], \"label\": \"1600782041\", \"method\": \"animate\"}, {\"args\": [[\"1600782047\"], {\"frame\": {\"duration\": 0, \"redraw\": true}, \"fromcurrent\": true, \"mode\": \"immediate\", \"transition\": {\"duration\": 0, \"easing\": \"linear\"}}], \"label\": \"1600782047\", \"method\": \"animate\"}, {\"args\": [[\"1600782043\"], {\"frame\": {\"duration\": 0, \"redraw\": true}, \"fromcurrent\": true, \"mode\": \"immediate\", \"transition\": {\"duration\": 0, \"easing\": \"linear\"}}], \"label\": \"1600782043\", \"method\": \"animate\"}], \"x\": 0.1, \"xanchor\": \"left\", \"y\": 0, \"yanchor\": \"top\"}], \"template\": {\"data\": {\"bar\": [{\"error_x\": {\"color\": \"#2a3f5f\"}, \"error_y\": {\"color\": \"#2a3f5f\"}, \"marker\": {\"line\": {\"color\": \"#E5ECF6\", \"width\": 0.5}}, \"type\": \"bar\"}], \"barpolar\": [{\"marker\": {\"line\": {\"color\": \"#E5ECF6\", \"width\": 0.5}}, \"type\": \"barpolar\"}], \"carpet\": [{\"aaxis\": {\"endlinecolor\": \"#2a3f5f\", \"gridcolor\": \"white\", \"linecolor\": \"white\", \"minorgridcolor\": \"white\", \"startlinecolor\": \"#2a3f5f\"}, \"baxis\": {\"endlinecolor\": \"#2a3f5f\", \"gridcolor\": \"white\", \"linecolor\": \"white\", \"minorgridcolor\": \"white\", \"startlinecolor\": \"#2a3f5f\"}, \"type\": \"carpet\"}], \"choropleth\": [{\"colorbar\": {\"outlinewidth\": 0, \"ticks\": \"\"}, \"type\": \"choropleth\"}], \"contour\": [{\"colorbar\": {\"outlinewidth\": 0, \"ticks\": \"\"}, \"colorscale\": [[0.0, \"#0d0887\"], [0.1111111111111111, \"#46039f\"], [0.2222222222222222, \"#7201a8\"], [0.3333333333333333, \"#9c179e\"], [0.4444444444444444, \"#bd3786\"], [0.5555555555555556, \"#d8576b\"], [0.6666666666666666, \"#ed7953\"], [0.7777777777777778, \"#fb9f3a\"], [0.8888888888888888, \"#fdca26\"], [1.0, \"#f0f921\"]], \"type\": \"contour\"}], \"contourcarpet\": [{\"colorbar\": {\"outlinewidth\": 0, \"ticks\": \"\"}, \"type\": \"contourcarpet\"}], \"heatmap\": [{\"colorbar\": {\"outlinewidth\": 0, \"ticks\": \"\"}, \"colorscale\": [[0.0, \"#0d0887\"], [0.1111111111111111, \"#46039f\"], [0.2222222222222222, \"#7201a8\"], [0.3333333333333333, \"#9c179e\"], [0.4444444444444444, \"#bd3786\"], [0.5555555555555556, \"#d8576b\"], [0.6666666666666666, \"#ed7953\"], [0.7777777777777778, \"#fb9f3a\"], [0.8888888888888888, \"#fdca26\"], [1.0, \"#f0f921\"]], \"type\": \"heatmap\"}], \"heatmapgl\": [{\"colorbar\": {\"outlinewidth\": 0, \"ticks\": \"\"}, \"colorscale\": [[0.0, \"#0d0887\"], [0.1111111111111111, \"#46039f\"], [0.2222222222222222, \"#7201a8\"], [0.3333333333333333, \"#9c179e\"], [0.4444444444444444, \"#bd3786\"], [0.5555555555555556, \"#d8576b\"], [0.6666666666666666, \"#ed7953\"], [0.7777777777777778, \"#fb9f3a\"], [0.8888888888888888, \"#fdca26\"], [1.0, \"#f0f921\"]], \"type\": \"heatmapgl\"}], \"histogram\": [{\"marker\": {\"colorbar\": {\"outlinewidth\": 0, \"ticks\": \"\"}}, \"type\": \"histogram\"}], \"histogram2d\": [{\"colorbar\": {\"outlinewidth\": 0, \"ticks\": \"\"}, \"colorscale\": [[0.0, \"#0d0887\"], [0.1111111111111111, \"#46039f\"], [0.2222222222222222, \"#7201a8\"], [0.3333333333333333, \"#9c179e\"], [0.4444444444444444, \"#bd3786\"], [0.5555555555555556, \"#d8576b\"], [0.6666666666666666, \"#ed7953\"], [0.7777777777777778, \"#fb9f3a\"], [0.8888888888888888, \"#fdca26\"], [1.0, \"#f0f921\"]], \"type\": \"histogram2d\"}], \"histogram2dcontour\": [{\"colorbar\": {\"outlinewidth\": 0, \"ticks\": \"\"}, \"colorscale\": [[0.0, \"#0d0887\"], [0.1111111111111111, \"#46039f\"], [0.2222222222222222, \"#7201a8\"], [0.3333333333333333, \"#9c179e\"], [0.4444444444444444, \"#bd3786\"], [0.5555555555555556, \"#d8576b\"], [0.6666666666666666, \"#ed7953\"], [0.7777777777777778, \"#fb9f3a\"], [0.8888888888888888, \"#fdca26\"], [1.0, \"#f0f921\"]], \"type\": \"histogram2dcontour\"}], \"mesh3d\": [{\"colorbar\": {\"outlinewidth\": 0, \"ticks\": \"\"}, \"type\": \"mesh3d\"}], \"parcoords\": [{\"line\": {\"colorbar\": {\"outlinewidth\": 0, \"ticks\": \"\"}}, \"type\": \"parcoords\"}], \"scatter\": [{\"marker\": {\"colorbar\": {\"outlinewidth\": 0, \"ticks\": \"\"}}, \"type\": \"scatter\"}], \"scatter3d\": [{\"line\": {\"colorbar\": {\"outlinewidth\": 0, \"ticks\": \"\"}}, \"marker\": {\"colorbar\": {\"outlinewidth\": 0, \"ticks\": \"\"}}, \"type\": \"scatter3d\"}], \"scattercarpet\": [{\"marker\": {\"colorbar\": {\"outlinewidth\": 0, \"ticks\": \"\"}}, \"type\": \"scattercarpet\"}], \"scattergeo\": [{\"marker\": {\"colorbar\": {\"outlinewidth\": 0, \"ticks\": \"\"}}, \"type\": \"scattergeo\"}], \"scattergl\": [{\"marker\": {\"colorbar\": {\"outlinewidth\": 0, \"ticks\": \"\"}}, \"type\": \"scattergl\"}], \"scattermapbox\": [{\"marker\": {\"colorbar\": {\"outlinewidth\": 0, \"ticks\": \"\"}}, \"type\": \"scattermapbox\"}], \"scatterpolar\": [{\"marker\": {\"colorbar\": {\"outlinewidth\": 0, \"ticks\": \"\"}}, \"type\": \"scatterpolar\"}], \"scatterpolargl\": [{\"marker\": {\"colorbar\": {\"outlinewidth\": 0, \"ticks\": \"\"}}, \"type\": \"scatterpolargl\"}], \"scatterternary\": [{\"marker\": {\"colorbar\": {\"outlinewidth\": 0, \"ticks\": \"\"}}, \"type\": \"scatterternary\"}], \"surface\": [{\"colorbar\": {\"outlinewidth\": 0, \"ticks\": \"\"}, \"colorscale\": [[0.0, \"#0d0887\"], [0.1111111111111111, \"#46039f\"], [0.2222222222222222, \"#7201a8\"], [0.3333333333333333, \"#9c179e\"], [0.4444444444444444, \"#bd3786\"], [0.5555555555555556, \"#d8576b\"], [0.6666666666666666, \"#ed7953\"], [0.7777777777777778, \"#fb9f3a\"], [0.8888888888888888, \"#fdca26\"], [1.0, \"#f0f921\"]], \"type\": \"surface\"}], \"table\": [{\"cells\": {\"fill\": {\"color\": \"#EBF0F8\"}, \"line\": {\"color\": \"white\"}}, \"header\": {\"fill\": {\"color\": \"#C8D4E3\"}, \"line\": {\"color\": \"white\"}}, \"type\": \"table\"}]}, \"layout\": {\"annotationdefaults\": {\"arrowcolor\": \"#2a3f5f\", \"arrowhead\": 0, \"arrowwidth\": 1}, \"colorscale\": {\"diverging\": [[0, \"#8e0152\"], [0.1, \"#c51b7d\"], [0.2, \"#de77ae\"], [0.3, \"#f1b6da\"], [0.4, \"#fde0ef\"], [0.5, \"#f7f7f7\"], [0.6, \"#e6f5d0\"], [0.7, \"#b8e186\"], [0.8, \"#7fbc41\"], [0.9, \"#4d9221\"], [1, \"#276419\"]], \"sequential\": [[0.0, \"#0d0887\"], [0.1111111111111111, \"#46039f\"], [0.2222222222222222, \"#7201a8\"], [0.3333333333333333, \"#9c179e\"], [0.4444444444444444, \"#bd3786\"], [0.5555555555555556, \"#d8576b\"], [0.6666666666666666, \"#ed7953\"], [0.7777777777777778, \"#fb9f3a\"], [0.8888888888888888, \"#fdca26\"], [1.0, \"#f0f921\"]], \"sequentialminus\": [[0.0, \"#0d0887\"], [0.1111111111111111, \"#46039f\"], [0.2222222222222222, \"#7201a8\"], [0.3333333333333333, \"#9c179e\"], [0.4444444444444444, \"#bd3786\"], [0.5555555555555556, \"#d8576b\"], [0.6666666666666666, \"#ed7953\"], [0.7777777777777778, \"#fb9f3a\"], [0.8888888888888888, \"#fdca26\"], [1.0, \"#f0f921\"]]}, \"colorway\": [\"#636efa\", \"#EF553B\", \"#00cc96\", \"#ab63fa\", \"#FFA15A\", \"#19d3f3\", \"#FF6692\", \"#B6E880\", \"#FF97FF\", \"#FECB52\"], \"font\": {\"color\": \"#2a3f5f\"}, \"geo\": {\"bgcolor\": \"white\", \"lakecolor\": \"white\", \"landcolor\": \"#E5ECF6\", \"showlakes\": true, \"showland\": true, \"subunitcolor\": \"white\"}, \"hoverlabel\": {\"align\": \"left\"}, \"hovermode\": \"closest\", \"mapbox\": {\"style\": \"light\"}, \"paper_bgcolor\": \"white\", \"plot_bgcolor\": \"#E5ECF6\", \"polar\": {\"angularaxis\": {\"gridcolor\": \"white\", \"linecolor\": \"white\", \"ticks\": \"\"}, \"bgcolor\": \"#E5ECF6\", \"radialaxis\": {\"gridcolor\": \"white\", \"linecolor\": \"white\", \"ticks\": \"\"}}, \"scene\": {\"xaxis\": {\"backgroundcolor\": \"#E5ECF6\", \"gridcolor\": \"white\", \"gridwidth\": 2, \"linecolor\": \"white\", \"showbackground\": true, \"ticks\": \"\", \"zerolinecolor\": \"white\"}, \"yaxis\": {\"backgroundcolor\": \"#E5ECF6\", \"gridcolor\": \"white\", \"gridwidth\": 2, \"linecolor\": \"white\", \"showbackground\": true, \"ticks\": \"\", \"zerolinecolor\": \"white\"}, \"zaxis\": {\"backgroundcolor\": \"#E5ECF6\", \"gridcolor\": \"white\", \"gridwidth\": 2, \"linecolor\": \"white\", \"showbackground\": true, \"ticks\": \"\", \"zerolinecolor\": \"white\"}}, \"shapedefaults\": {\"line\": {\"color\": \"#2a3f5f\"}}, \"ternary\": {\"aaxis\": {\"gridcolor\": \"white\", \"linecolor\": \"white\", \"ticks\": \"\"}, \"baxis\": {\"gridcolor\": \"white\", \"linecolor\": \"white\", \"ticks\": \"\"}, \"bgcolor\": \"#E5ECF6\", \"caxis\": {\"gridcolor\": \"white\", \"linecolor\": \"white\", \"ticks\": \"\"}}, \"title\": {\"x\": 0.05}, \"xaxis\": {\"automargin\": true, \"gridcolor\": \"white\", \"linecolor\": \"white\", \"ticks\": \"\", \"zerolinecolor\": \"white\", \"zerolinewidth\": 2}, \"yaxis\": {\"automargin\": true, \"gridcolor\": \"white\", \"linecolor\": \"white\", \"ticks\": \"\", \"zerolinecolor\": \"white\", \"zerolinewidth\": 2}}}, \"title\": {\"text\": \"\"}, \"updatemenus\": [{\"buttons\": [{\"args\": [null, {\"frame\": {\"duration\": 500, \"redraw\": true}, \"fromcurrent\": true, \"mode\": \"immediate\", \"transition\": {\"duration\": 500, \"easing\": \"linear\"}}], \"label\": \"&#9654;\", \"method\": \"animate\"}, {\"args\": [[null], {\"frame\": {\"duration\": 0, \"redraw\": true}, \"fromcurrent\": true, \"mode\": \"immediate\", \"transition\": {\"duration\": 0, \"easing\": \"linear\"}}], \"label\": \"&#9724;\", \"method\": \"animate\"}], \"direction\": \"left\", \"pad\": {\"r\": 10, \"t\": 70}, \"showactive\": false, \"type\": \"buttons\", \"x\": 0.1, \"xanchor\": \"right\", \"y\": 0, \"yanchor\": \"top\"}], \"xaxis\": {\"anchor\": \"y\", \"domain\": [0.0, 0.98], \"title\": {\"text\": \"price\"}}, \"yaxis\": {\"anchor\": \"x\", \"domain\": [0.0, 1.0], \"range\": [0, 20], \"title\": {\"text\": \"size\"}}},\n",
       "                        {\"responsive\": true}\n",
       "                    ).then(function(){\n",
       "                            Plotly.addFrames('834d210f-4feb-499d-8a00-5e9b5031f2f7', [{\"data\": [{\"alignmentgroup\": \"True\", \"hoverlabel\": {\"namelength\": 0}, \"hovertemplate\": \"side=buy<br>timestamp=1600782014<br>price=%{x}<br>size=%{y}\", \"ids\": [\"buy\", \"buy\"], \"legendgroup\": \"side=buy\", \"marker\": {\"color\": \"#636efa\"}, \"name\": \"side=buy\", \"offsetgroup\": \"side=buy\", \"orientation\": \"v\", \"showlegend\": true, \"textposition\": \"auto\", \"x\": [110.93, 110.93], \"xaxis\": \"x\", \"y\": [100.0, 0.0], \"yaxis\": \"y\", \"type\": \"bar\"}, {\"alignmentgroup\": \"True\", \"hoverlabel\": {\"namelength\": 0}, \"hovertemplate\": \"side=sell<br>timestamp=1600782014<br>price=%{x}<br>size=%{y}\", \"ids\": [\"sell\"], \"legendgroup\": \"side=sell\", \"marker\": {\"color\": \"#EF553B\"}, \"name\": \"side=sell\", \"offsetgroup\": \"side=sell\", \"orientation\": \"v\", \"showlegend\": true, \"textposition\": \"auto\", \"x\": [110.99], \"xaxis\": \"x\", \"y\": [100.0], \"yaxis\": \"y\", \"type\": \"bar\"}], \"name\": \"1600782014\"}, {\"data\": [{\"alignmentgroup\": \"True\", \"hoverlabel\": {\"namelength\": 0}, \"hovertemplate\": \"side=buy<br>timestamp=1600782018<br>price=%{x}<br>size=%{y}\", \"ids\": [\"buy\", \"buy\", \"buy\", \"buy\"], \"legendgroup\": \"side=buy\", \"marker\": {\"color\": \"#636efa\"}, \"name\": \"side=buy\", \"offsetgroup\": \"side=buy\", \"orientation\": \"v\", \"showlegend\": true, \"textposition\": \"auto\", \"x\": [111.03, 111.03, 111.05, 111.05], \"xaxis\": \"x\", \"y\": [100.0, 0.0, 100.0, 0.0], \"yaxis\": \"y\", \"type\": \"bar\"}], \"name\": \"1600782018\"}, {\"data\": [{\"alignmentgroup\": \"True\", \"hoverlabel\": {\"namelength\": 0}, \"hovertemplate\": \"side=sell<br>timestamp=1600782019<br>price=%{x}<br>size=%{y}\", \"ids\": [\"sell\", \"sell\"], \"legendgroup\": \"side=sell\", \"marker\": {\"color\": \"#EF553B\"}, \"name\": \"side=sell\", \"offsetgroup\": \"side=sell\", \"orientation\": \"v\", \"showlegend\": true, \"textposition\": \"auto\", \"x\": [111.05, 111.05], \"xaxis\": \"x\", \"y\": [100.0, 0.0], \"yaxis\": \"y\", \"type\": \"bar\"}], \"name\": \"1600782019\"}, {\"data\": [{\"alignmentgroup\": \"True\", \"hoverlabel\": {\"namelength\": 0}, \"hovertemplate\": \"side=buy<br>timestamp=1600782020<br>price=%{x}<br>size=%{y}\", \"ids\": [\"buy\", \"buy\", \"buy\", \"buy\", \"buy\", \"buy\", \"buy\", \"buy\"], \"legendgroup\": \"side=buy\", \"marker\": {\"color\": \"#636efa\"}, \"name\": \"side=buy\", \"offsetgroup\": \"side=buy\", \"orientation\": \"v\", \"showlegend\": true, \"textposition\": \"auto\", \"x\": [111.02, 111.02, 111.02, 111.02, 111.03, 111.04, 111.03, 111.04], \"xaxis\": \"x\", \"y\": [100.0, 0.0, 100.0, 0.0, 100.0, 100.0, 0.0, 0.0], \"yaxis\": \"y\", \"type\": \"bar\"}], \"name\": \"1600782020\"}, {\"data\": [{\"alignmentgroup\": \"True\", \"hoverlabel\": {\"namelength\": 0}, \"hovertemplate\": \"side=buy<br>timestamp=1600782021<br>price=%{x}<br>size=%{y}\", \"ids\": [\"buy\", \"buy\", \"buy\", \"buy\"], \"legendgroup\": \"side=buy\", \"marker\": {\"color\": \"#636efa\"}, \"name\": \"side=buy\", \"offsetgroup\": \"side=buy\", \"orientation\": \"v\", \"showlegend\": true, \"textposition\": \"auto\", \"x\": [111.06, 111.06, 111.06, 111.06], \"xaxis\": \"x\", \"y\": [100.0, 0.0, 100.0, 0.0], \"yaxis\": \"y\", \"type\": \"bar\"}], \"name\": \"1600782021\"}, {\"data\": [{\"alignmentgroup\": \"True\", \"hoverlabel\": {\"namelength\": 0}, \"hovertemplate\": \"side=buy<br>timestamp=1600782022<br>price=%{x}<br>size=%{y}\", \"ids\": [\"buy\", \"buy\", \"buy\", \"buy\"], \"legendgroup\": \"side=buy\", \"marker\": {\"color\": \"#636efa\"}, \"name\": \"side=buy\", \"offsetgroup\": \"side=buy\", \"orientation\": \"v\", \"showlegend\": true, \"textposition\": \"auto\", \"x\": [111.08, 111.08, 111.11, 111.11], \"xaxis\": \"x\", \"y\": [100.0, 0.0, 100.0, 0.0], \"yaxis\": \"y\", \"type\": \"bar\"}], \"name\": \"1600782022\"}, {\"data\": [{\"alignmentgroup\": \"True\", \"hoverlabel\": {\"namelength\": 0}, \"hovertemplate\": \"side=sell<br>timestamp=1600782023<br>price=%{x}<br>size=%{y}\", \"ids\": [\"sell\", \"sell\", \"sell\"], \"legendgroup\": \"side=sell\", \"marker\": {\"color\": \"#EF553B\"}, \"name\": \"side=sell\", \"offsetgroup\": \"side=sell\", \"orientation\": \"v\", \"showlegend\": true, \"textposition\": \"auto\", \"x\": [111.11, 111.11, 111.1], \"xaxis\": \"x\", \"y\": [100.0, 0.0, 100.0], \"yaxis\": \"y\", \"type\": \"bar\"}], \"name\": \"1600782023\"}, {\"data\": [{\"alignmentgroup\": \"True\", \"hoverlabel\": {\"namelength\": 0}, \"hovertemplate\": \"side=buy<br>timestamp=1600782024<br>price=%{x}<br>size=%{y}\", \"ids\": [\"buy\", \"buy\"], \"legendgroup\": \"side=buy\", \"marker\": {\"color\": \"#636efa\"}, \"name\": \"side=buy\", \"offsetgroup\": \"side=buy\", \"orientation\": \"v\", \"showlegend\": true, \"textposition\": \"auto\", \"x\": [111.1, 111.1], \"xaxis\": \"x\", \"y\": [100.0, 0.0], \"yaxis\": \"y\", \"type\": \"bar\"}, {\"alignmentgroup\": \"True\", \"hoverlabel\": {\"namelength\": 0}, \"hovertemplate\": \"side=sell<br>timestamp=1600782024<br>price=%{x}<br>size=%{y}\", \"ids\": [\"sell\"], \"legendgroup\": \"side=sell\", \"marker\": {\"color\": \"#EF553B\"}, \"name\": \"side=sell\", \"offsetgroup\": \"side=sell\", \"orientation\": \"v\", \"showlegend\": true, \"textposition\": \"auto\", \"x\": [111.1], \"xaxis\": \"x\", \"y\": [0.0], \"yaxis\": \"y\", \"type\": \"bar\"}], \"name\": \"1600782024\"}, {\"data\": [{\"alignmentgroup\": \"True\", \"hoverlabel\": {\"namelength\": 0}, \"hovertemplate\": \"side=buy<br>timestamp=1600782025<br>price=%{x}<br>size=%{y}\", \"ids\": [\"buy\", \"buy\", \"buy\", \"buy\"], \"legendgroup\": \"side=buy\", \"marker\": {\"color\": \"#636efa\"}, \"name\": \"side=buy\", \"offsetgroup\": \"side=buy\", \"orientation\": \"v\", \"showlegend\": true, \"textposition\": \"auto\", \"x\": [111.12, 111.12, 111.15, 111.15], \"xaxis\": \"x\", \"y\": [100.0, 0.0, 100.0, 0.0], \"yaxis\": \"y\", \"type\": \"bar\"}], \"name\": \"1600782025\"}, {\"data\": [{\"alignmentgroup\": \"True\", \"hoverlabel\": {\"namelength\": 0}, \"hovertemplate\": \"side=buy<br>timestamp=1600782026<br>price=%{x}<br>size=%{y}\", \"ids\": [\"buy\", \"buy\", \"buy\", \"buy\", \"buy\"], \"legendgroup\": \"side=buy\", \"marker\": {\"color\": \"#636efa\"}, \"name\": \"side=buy\", \"offsetgroup\": \"side=buy\", \"orientation\": \"v\", \"showlegend\": true, \"textposition\": \"auto\", \"x\": [111.15, 111.15, 111.15, 111.15, 111.15], \"xaxis\": \"x\", \"y\": [100.0, 200.0, 100.0, 0.0, 100.0], \"yaxis\": \"y\", \"type\": \"bar\"}, {\"alignmentgroup\": \"True\", \"hoverlabel\": {\"namelength\": 0}, \"hovertemplate\": \"side=sell<br>timestamp=1600782026<br>price=%{x}<br>size=%{y}\", \"ids\": [\"sell\", \"sell\", \"sell\", \"sell\"], \"legendgroup\": \"side=sell\", \"marker\": {\"color\": \"#EF553B\"}, \"name\": \"side=sell\", \"offsetgroup\": \"side=sell\", \"orientation\": \"v\", \"showlegend\": true, \"textposition\": \"auto\", \"x\": [111.16, 111.16, 111.16, 111.16], \"xaxis\": \"x\", \"y\": [100.0, 0.0, 100.0, 0.0], \"yaxis\": \"y\", \"type\": \"bar\"}], \"name\": \"1600782026\"}, {\"data\": [{\"alignmentgroup\": \"True\", \"hoverlabel\": {\"namelength\": 0}, \"hovertemplate\": \"side=buy<br>timestamp=1600782027<br>price=%{x}<br>size=%{y}\", \"ids\": [\"buy\"], \"legendgroup\": \"side=buy\", \"marker\": {\"color\": \"#636efa\"}, \"name\": \"side=buy\", \"offsetgroup\": \"side=buy\", \"orientation\": \"v\", \"showlegend\": true, \"textposition\": \"auto\", \"x\": [111.15], \"xaxis\": \"x\", \"y\": [0.0], \"yaxis\": \"y\", \"type\": \"bar\"}, {\"alignmentgroup\": \"True\", \"hoverlabel\": {\"namelength\": 0}, \"hovertemplate\": \"side=sell<br>timestamp=1600782027<br>price=%{x}<br>size=%{y}\", \"ids\": [\"sell\", \"sell\"], \"legendgroup\": \"side=sell\", \"marker\": {\"color\": \"#EF553B\"}, \"name\": \"side=sell\", \"offsetgroup\": \"side=sell\", \"orientation\": \"v\", \"showlegend\": true, \"textposition\": \"auto\", \"x\": [111.18, 111.18], \"xaxis\": \"x\", \"y\": [100.0, 0.0], \"yaxis\": \"y\", \"type\": \"bar\"}], \"name\": \"1600782027\"}, {\"data\": [{\"alignmentgroup\": \"True\", \"hoverlabel\": {\"namelength\": 0}, \"hovertemplate\": \"side=buy<br>timestamp=1600782031<br>price=%{x}<br>size=%{y}\", \"ids\": [\"buy\", \"buy\", \"buy\", \"buy\", \"buy\", \"buy\"], \"legendgroup\": \"side=buy\", \"marker\": {\"color\": \"#636efa\"}, \"name\": \"side=buy\", \"offsetgroup\": \"side=buy\", \"orientation\": \"v\", \"showlegend\": true, \"textposition\": \"auto\", \"x\": [111.24, 111.24, 111.22, 111.22, 111.24, 111.24], \"xaxis\": \"x\", \"y\": [100.0, 0.0, 100.0, 0.0, 100.0, 0.0], \"yaxis\": \"y\", \"type\": \"bar\"}], \"name\": \"1600782031\"}, {\"data\": [{\"alignmentgroup\": \"True\", \"hoverlabel\": {\"namelength\": 0}, \"hovertemplate\": \"side=buy<br>timestamp=1600782032<br>price=%{x}<br>size=%{y}\", \"ids\": [\"buy\", \"buy\"], \"legendgroup\": \"side=buy\", \"marker\": {\"color\": \"#636efa\"}, \"name\": \"side=buy\", \"offsetgroup\": \"side=buy\", \"orientation\": \"v\", \"showlegend\": true, \"textposition\": \"auto\", \"x\": [111.22, 111.22], \"xaxis\": \"x\", \"y\": [100.0, 0.0], \"yaxis\": \"y\", \"type\": \"bar\"}, {\"alignmentgroup\": \"True\", \"hoverlabel\": {\"namelength\": 0}, \"hovertemplate\": \"side=sell<br>timestamp=1600782032<br>price=%{x}<br>size=%{y}\", \"ids\": [\"sell\", \"sell\", \"sell\", \"sell\", \"sell\", \"sell\", \"sell\", \"sell\", \"sell\", \"sell\", \"sell\"], \"legendgroup\": \"side=sell\", \"marker\": {\"color\": \"#EF553B\"}, \"name\": \"side=sell\", \"offsetgroup\": \"side=sell\", \"orientation\": \"v\", \"showlegend\": true, \"textposition\": \"auto\", \"x\": [111.27, 111.27, 111.27, 111.27, 111.25, 111.25, 111.24, 111.24, 111.24, 111.24, 111.24], \"xaxis\": \"x\", \"y\": [100.0, 200.0, 100.0, 0.0, 100.0, 0.0, 100.0, 0.0, 100.0, 0.0, 100.0], \"yaxis\": \"y\", \"type\": \"bar\"}], \"name\": \"1600782032\"}, {\"data\": [{\"alignmentgroup\": \"True\", \"hoverlabel\": {\"namelength\": 0}, \"hovertemplate\": \"side=sell<br>timestamp=1600782033<br>price=%{x}<br>size=%{y}\", \"ids\": [\"sell\"], \"legendgroup\": \"side=sell\", \"marker\": {\"color\": \"#EF553B\"}, \"name\": \"side=sell\", \"offsetgroup\": \"side=sell\", \"orientation\": \"v\", \"showlegend\": true, \"textposition\": \"auto\", \"x\": [111.24], \"xaxis\": \"x\", \"y\": [0.0], \"yaxis\": \"y\", \"type\": \"bar\"}], \"name\": \"1600782033\"}, {\"data\": [{\"alignmentgroup\": \"True\", \"hoverlabel\": {\"namelength\": 0}, \"hovertemplate\": \"side=buy<br>timestamp=1600782034<br>price=%{x}<br>size=%{y}\", \"ids\": [\"buy\", \"buy\", \"buy\", \"buy\", \"buy\", \"buy\", \"buy\", \"buy\"], \"legendgroup\": \"side=buy\", \"marker\": {\"color\": \"#636efa\"}, \"name\": \"side=buy\", \"offsetgroup\": \"side=buy\", \"orientation\": \"v\", \"showlegend\": true, \"textposition\": \"auto\", \"x\": [111.25, 111.25, 111.25, 111.25, 111.25, 111.25, 111.25, 111.25], \"xaxis\": \"x\", \"y\": [100.0, 0.0, 100.0, 0.0, 100.0, 200.0, 100.0, 0.0], \"yaxis\": \"y\", \"type\": \"bar\"}], \"name\": \"1600782034\"}, {\"data\": [{\"alignmentgroup\": \"True\", \"hoverlabel\": {\"namelength\": 0}, \"hovertemplate\": \"side=buy<br>timestamp=1600782035<br>price=%{x}<br>size=%{y}\", \"ids\": [\"buy\", \"buy\", \"buy\", \"buy\", \"buy\"], \"legendgroup\": \"side=buy\", \"marker\": {\"color\": \"#636efa\"}, \"name\": \"side=buy\", \"offsetgroup\": \"side=buy\", \"orientation\": \"v\", \"showlegend\": true, \"textposition\": \"auto\", \"x\": [111.27, 111.27, 111.27, 111.26, 111.26], \"xaxis\": \"x\", \"y\": [100.0, 0.0, 100.0, 100.0, 0.0], \"yaxis\": \"y\", \"type\": \"bar\"}], \"name\": \"1600782035\"}, {\"data\": [{\"alignmentgroup\": \"True\", \"hoverlabel\": {\"namelength\": 0}, \"hovertemplate\": \"side=buy<br>timestamp=1600782036<br>price=%{x}<br>size=%{y}\", \"ids\": [\"buy\", \"buy\", \"buy\", \"buy\", \"buy\"], \"legendgroup\": \"side=buy\", \"marker\": {\"color\": \"#636efa\"}, \"name\": \"side=buy\", \"offsetgroup\": \"side=buy\", \"orientation\": \"v\", \"showlegend\": true, \"textposition\": \"auto\", \"x\": [111.27, 111.25, 111.25, 111.25, 111.25], \"xaxis\": \"x\", \"y\": [0.0, 100.0, 0.0, 100.0, 0.0], \"yaxis\": \"y\", \"type\": \"bar\"}], \"name\": \"1600782036\"}, {\"data\": [{\"alignmentgroup\": \"True\", \"hoverlabel\": {\"namelength\": 0}, \"hovertemplate\": \"side=sell<br>timestamp=1600782037<br>price=%{x}<br>size=%{y}\", \"ids\": [\"sell\", \"sell\"], \"legendgroup\": \"side=sell\", \"marker\": {\"color\": \"#EF553B\"}, \"name\": \"side=sell\", \"offsetgroup\": \"side=sell\", \"orientation\": \"v\", \"showlegend\": true, \"textposition\": \"auto\", \"x\": [111.26, 111.26], \"xaxis\": \"x\", \"y\": [100.0, 0.0], \"yaxis\": \"y\", \"type\": \"bar\"}], \"name\": \"1600782037\"}, {\"data\": [{\"alignmentgroup\": \"True\", \"hoverlabel\": {\"namelength\": 0}, \"hovertemplate\": \"side=buy<br>timestamp=1600782030<br>price=%{x}<br>size=%{y}\", \"ids\": [\"buy\", \"buy\", \"buy\", \"buy\", \"buy\", \"buy\"], \"legendgroup\": \"side=buy\", \"marker\": {\"color\": \"#636efa\"}, \"name\": \"side=buy\", \"offsetgroup\": \"side=buy\", \"orientation\": \"v\", \"showlegend\": true, \"textposition\": \"auto\", \"x\": [111.19, 111.19, 111.18, 111.18, 111.21, 111.21], \"xaxis\": \"x\", \"y\": [100.0, 0.0, 100.0, 0.0, 100.0, 0.0], \"yaxis\": \"y\", \"type\": \"bar\"}], \"name\": \"1600782030\"}, {\"data\": [{\"alignmentgroup\": \"True\", \"hoverlabel\": {\"namelength\": 0}, \"hovertemplate\": \"side=buy<br>timestamp=1600782038<br>price=%{x}<br>size=%{y}\", \"ids\": [\"buy\", \"buy\"], \"legendgroup\": \"side=buy\", \"marker\": {\"color\": \"#636efa\"}, \"name\": \"side=buy\", \"offsetgroup\": \"side=buy\", \"orientation\": \"v\", \"showlegend\": true, \"textposition\": \"auto\", \"x\": [111.22, 111.22], \"xaxis\": \"x\", \"y\": [100.0, 0.0], \"yaxis\": \"y\", \"type\": \"bar\"}], \"name\": \"1600782038\"}, {\"data\": [{\"alignmentgroup\": \"True\", \"hoverlabel\": {\"namelength\": 0}, \"hovertemplate\": \"side=buy<br>timestamp=1600782041<br>price=%{x}<br>size=%{y}\", \"ids\": [\"buy\"], \"legendgroup\": \"side=buy\", \"marker\": {\"color\": \"#636efa\"}, \"name\": \"side=buy\", \"offsetgroup\": \"side=buy\", \"orientation\": \"v\", \"showlegend\": true, \"textposition\": \"auto\", \"x\": [111.21], \"xaxis\": \"x\", \"y\": [100.0], \"yaxis\": \"y\", \"type\": \"bar\"}], \"name\": \"1600782041\"}, {\"data\": [{\"alignmentgroup\": \"True\", \"hoverlabel\": {\"namelength\": 0}, \"hovertemplate\": \"side=buy<br>timestamp=1600782047<br>price=%{x}<br>size=%{y}\", \"ids\": [\"buy\", \"buy\", \"buy\"], \"legendgroup\": \"side=buy\", \"marker\": {\"color\": \"#636efa\"}, \"name\": \"side=buy\", \"offsetgroup\": \"side=buy\", \"orientation\": \"v\", \"showlegend\": true, \"textposition\": \"auto\", \"x\": [111.29, 111.28, 111.28], \"xaxis\": \"x\", \"y\": [100.0, 100.0, 0.0], \"yaxis\": \"y\", \"type\": \"bar\"}], \"name\": \"1600782047\"}, {\"data\": [{\"alignmentgroup\": \"True\", \"hoverlabel\": {\"namelength\": 0}, \"hovertemplate\": \"side=buy<br>timestamp=1600782043<br>price=%{x}<br>size=%{y}\", \"ids\": [\"buy\"], \"legendgroup\": \"side=buy\", \"marker\": {\"color\": \"#636efa\"}, \"name\": \"side=buy\", \"offsetgroup\": \"side=buy\", \"orientation\": \"v\", \"showlegend\": true, \"textposition\": \"auto\", \"x\": [111.24], \"xaxis\": \"x\", \"y\": [100.0], \"yaxis\": \"y\", \"type\": \"bar\"}], \"name\": \"1600782043\"}]);\n",
       "                        }).then(function(){\n",
       "                            \n",
       "var gd = document.getElementById('834d210f-4feb-499d-8a00-5e9b5031f2f7');\n",
       "var x = new MutationObserver(function (mutations, observer) {{\n",
       "        var display = window.getComputedStyle(gd).display;\n",
       "        if (!display || display === 'none') {{\n",
       "            console.log([gd, 'removed!']);\n",
       "            Plotly.purge(gd);\n",
       "            observer.disconnect();\n",
       "        }}\n",
       "}});\n",
       "\n",
       "// Listen for the removal of the full notebook cells\n",
       "var notebookContainer = gd.closest('#notebook-container');\n",
       "if (notebookContainer) {{\n",
       "    x.observe(notebookContainer, {childList: true});\n",
       "}}\n",
       "\n",
       "// Listen for the clearing of the current output cell\n",
       "var outputEl = gd.closest('.output');\n",
       "if (outputEl) {{\n",
       "    x.observe(outputEl, {childList: true});\n",
       "}}\n",
       "\n",
       "                        })\n",
       "                };\n",
       "                });\n",
       "            </script>\n",
       "        </div>"
      ]
     },
     "metadata": {},
     "output_type": "display_data"
    }
   ],
   "source": [
    "fig = px.bar(_tmp_data, x=\"price\", y=\"size\", color=\"side\",\n",
    "   animation_frame=\"timestamp\", animation_group=\"side\", \n",
    "   range_y=[0,20])\n",
    "fig.update_layout(\n",
    "    height=600,\n",
    "    title_text=''\n",
    ")\n",
    "fig.show()"
   ]
  },
  {
   "cell_type": "code",
   "execution_count": null,
   "metadata": {},
   "outputs": [],
   "source": []
  }
 ],
 "metadata": {
  "kernelspec": {
   "display_name": "Python 3",
   "language": "python",
   "name": "python3"
  },
  "language_info": {
   "codemirror_mode": {
    "name": "ipython",
    "version": 3
   },
   "file_extension": ".py",
   "mimetype": "text/x-python",
   "name": "python",
   "nbconvert_exporter": "python",
   "pygments_lexer": "ipython3",
   "version": "3.7.4"
  }
 },
 "nbformat": 4,
 "nbformat_minor": 2
}
